{
 "cells": [
  {
   "cell_type": "code",
   "execution_count": 1,
   "metadata": {},
   "outputs": [
    {
     "name": "stderr",
     "output_type": "stream",
     "text": [
      "[nltk_data] Downloading package stopwords to\n",
      "[nltk_data]     C:\\Users\\KimYiuLui\\AppData\\Roaming\\nltk_data...\n",
      "[nltk_data]   Package stopwords is already up-to-date!\n"
     ]
    }
   ],
   "source": [
    "import pandas as pd\n",
    "from rake_nltk import Rake\n",
    "import numpy as np\n",
    "import re, string\n",
    "import nltk\n",
    "from nltk.tokenize import word_tokenize \n",
    "nltk.download('stopwords')\n",
    "from nltk.corpus import stopwords\n",
    "from sklearn.feature_extraction import text\n",
    "from sklearn.metrics.pairwise import cosine_similarity\n",
    "from sklearn.feature_extraction.text import CountVectorizer\n",
    "\n",
    "stopwords = set(stopwords.words('english'))\n",
    "extraWords= ['whence', 'here', 'show', 'were', 'why',\"'s'\",\"n't\",\"'ve\", 'n’t', 'the', 'whereupon', 'not', 'more', 'how', 'eight', 'indeed', 'i', 'only', 'via', 'nine', 're', 'themselves', 'almost', 'to', 'already', 'front', 'least', 'becomes', 'thereby', 'doing', 'her', 'together', 'be', 'often', 'then', 'quite', 'less', 'many', 'they', 'ourselves', 'take', 'its', 'yours', 'each', 'would', 'may', 'namely', 'do', 'whose', 'whether', 'side', 'both', 'what', 'between', 'toward', 'our', 'whereby', \"'m\", 'formerly', 'myself', 'had', 'really', 'call', 'keep', \"'re\", 'hereupon', 'can', 'their', 'eleven', '’m', 'even', 'around', 'twenty', 'mostly', 'did', 'at', 'an', 'seems', 'serious', 'against', \"n't\", 'except', 'has', 'five', 'he', 'last', '‘ve', 'because', 'we', 'himself', 'yet', 'something', 'somehow', '‘m', 'towards', 'his', 'six', 'anywhere', 'us', '‘d', 'thru', 'thus', 'which', 'everything', 'become', 'herein', 'one', 'in', 'although', 'sometime', 'give', 'cannot', 'besides', 'across', 'noone', 'ever', 'that', 'over', 'among', 'during', 'however', 'when', 'sometimes', 'still', 'seemed', 'get', \"'ve\", 'him', 'with', 'part', 'beyond', 'everyone', 'same', 'this', 'latterly', 'no', 'regarding', 'elsewhere', 'others', 'moreover', 'else', 'back', 'alone', 'somewhere', 'are', 'will', 'beforehand', 'ten', 'very', 'most', 'three', 'former', '’re', 'otherwise', 'several', 'also', 'whatever', 'am', 'becoming', 'beside', '’s', 'nothing', 'some', 'since', 'thence', 'anyway', 'out', 'up', 'well', 'it', 'various', 'four', 'top', '‘s', 'than', 'under', 'might', 'could', 'by', 'too', 'and', 'whom', '‘ll', 'say', 'therefore', \"'s\", 'other', 'throughout', 'became', 'your', 'put', 'per', \"'ll\", 'fifteen', 'must', 'before', 'whenever', 'anyone', 'without', 'does', 'was', 'where', 'thereafter', \"'d\", 'another', 'yourselves', 'n‘t', 'see', 'go', 'wherever', 'just', 'seeming', 'hence', 'full', 'whereafter', 'bottom', 'whole', 'own', 'empty', 'due', 'behind', 'while', 'onto', 'wherein', 'off', 'again', 'a', 'two', 'above', 'therein', 'sixty', 'those', 'whereas', 'using', 'latter', 'used', 'my', 'herself', 'hers', 'or', 'neither', 'forty', 'thereupon', 'now', 'after', 'yourself', 'whither', 'rather', 'once', 'from', 'until', 'anything', 'few', 'into', 'such', 'being', 'make', 'mine', 'please', 'along', 'hundred', 'should', 'below', 'third', 'unless', 'upon', 'perhaps', 'ours', 'but', 'never', 'whoever', 'fifty', 'any', 'all', 'nobody', 'there', 'have', 'anyhow', 'of', 'seem', 'down', 'is', 'every', '’ll', 'much', 'none', 'further', 'me', 'who', 'nevertheless', 'about', 'everywhere', 'name', 'enough', '’d', 'next', 'meanwhile', 'though', 'through', 'on', 'first', 'been', 'hereby', 'if', 'move', 'so', 'either', 'amongst', 'for', 'twelve', 'nor', 'she', 'always', 'these', 'as', '’ve', 'amount', '‘re', 'someone', 'afterwards', 'you', 'nowhere', 'itself', 'done', 'hereafter', 'within', 'made', 'ca', 'them', 'her', 'during', 'among', 'thereafter', 'only', 'hers', 'in', 'none', 'with', 'un', 'put', 'hence', 'each', 'would', 'have', 'to', 'itself', 'that', 'seeming', 'hereupon', 'someone', 'eight', 'she', 'forty', 'much', 'throughout', 'less', 'was', 'interest', 'elsewhere', 'already', 'whatever', 'or', 'seem', 'fire', 'however', 'keep', 'detail', 'both', 'yourselves', 'indeed', 'enough', 'too', 'us', 'wherein', 'himself', 'behind', 'everything', 'part', 'made', 'thereupon', 'for', 'nor', 'before', 'front', 'sincere', 'really', 'than', 'alone', 'doing', 'amongst', 'across', 'him', 'another', 'some', 'whoever', 'four', 'other', 'latterly', 'off', 'sometime', 'above', 'often', 'herein', 'am', 'whereby', 'although', 'who', 'should', 'amount', 'anyway', 'else', 'upon', 'this', 'when', 'we', 'few', 'anywhere', 'will', 'though', 'being', 'fill', 'used', 'full', 'thru', 'call', 'whereafter', 'various', 'has', 'same', 'former', 'whereas', 'what', 'had', 'mostly', 'onto', 'go', 'could', 'yourself', 'meanwhile', 'beyond', 'beside', 'ours', 'side', 'our', 'five', 'nobody', 'herself', 'is', 'ever', 'they', 'here', 'eleven', 'fifty', 'therefore', 'nothing', 'not', 'mill', 'without', 'whence', 'get', 'whither', 'then', 'no', 'own', 'many', 'anything', 'etc', 'make', 'from', 'against', 'ltd', 'next', 'afterwards', 'unless', 'while', 'thin', 'beforehand', 'by', 'amoungst', 'you', 'third', 'as', 'those', 'done', 'becoming', 'say', 'either', 'doesn', 'twenty', 'his', 'yet', 'latter', 'somehow', 'are', 'these', 'mine', 'under', 'take', 'whose', 'others', 'over', 'perhaps', 'thence', 'does', 'where', 'two', 'always', 'your', 'wherever', 'became', 'which', 'about', 'but', 'towards', 'still', 'rather', 'quite', 'whether', 'somewhere', 'might', 'do', 'bottom', 'until', 'km', 'yours', 'serious', 'find', 'please', 'hasnt', 'otherwise', 'six', 'toward', 'sometimes', 'of', 'fifteen', 'eg', 'just', 'a', 'me', 'describe', 'why', 'an', 'and', 'may', 'within', 'kg', 'con', 're', 'nevertheless', 'through', 'very', 'anyhow', 'down', 'nowhere', 'now', 'it', 'cant', 'de', 'move', 'hereby', 'how', 'found', 'whom', 'were', 'together', 'again', 'moreover', 'first', 'never', 'below', 'between', 'computer', 'ten', 'into', 'see', 'everywhere', 'there', 'neither', 'every', 'couldnt', 'up', 'several', 'the', 'i', 'becomes', 'don', 'ie', 'been', 'whereupon', 'seemed', 'most', 'noone', 'whole', 'must', 'cannot', 'per', 'my', 'thereby', 'so', 'he', 'name', 'co', 'its', 'everyone', 'if', 'become', 'thick', 'thus', 'regarding', 'didn', 'give', 'all', 'show', 'any', 'using', 'on', 'further', 'around', 'back', 'least', 'since', 'anyone', 'once', 'can', 'bill', 'hereafter', 'be', 'seems', 'their', 'myself', 'nine', 'also', 'system', 'at', 'more', 'out', 'twelve', 'therein', 'almost', 'except', 'last', 'did', 'something', 'besides', 'via', 'whenever', 'formerly', 'cry', 'one', 'hundred', 'sixty', 'after', 'well', 'them', 'namely', 'empty', 'three', 'even', 'along', 'because', 'ourselves', 'such', 'top', 'due', 'inc', 'themselves', 'ii', 'th', 'a', 'b', 'c', 'd', 'e', 'f', 'g', 'h', 'i','j', 'k', 'l', 'm', 'n', 'o', 'p', 'q', 'r', 's', 't', 'u', 'v', 'w', 'x', 'y', 'z', 'mr', 'us', 'dk', 'workthis', 'youve', 'ive', 'sheve', 'heve', 'weve', 'theyve', 'didnt', 'dont', 'wouldnt', 'couldnt', 'cant', 'shouldnt', 'gl','cm', '________________________________', 'wwwultimatewritercom', 'svd', 'psg', 'zfxpsg', 'editorairsoftpresscom', 'iihf', 'miif','cae']\n",
    "for word in extraWords:\n",
    "    stopwords.add(word)"
   ]
  },
  {
   "cell_type": "code",
   "execution_count": 2,
   "metadata": {},
   "outputs": [],
   "source": [
    "# import kaggle dataset and clean it\n",
    "# we want english books with the format 1,2,9 see format.csv for reference\n",
    "df = pd.read_csv(\"../dataset/dataset.csv\")\n",
    "df = df[df.lang == \"en\"]\n",
    "formats = [\"1\",\"2\",\"9\"]\n",
    "df = df[df.format.isin(formats)]\n",
    "df = df.reset_index(drop=True)\n",
    "\n",
    "# after filtering only return the title and description to work with\n",
    "data = df[[\"title\", \"description\"]]\n",
    "data.columns = [\"Title\", \"Description\"]"
   ]
  },
  {
   "cell_type": "code",
   "execution_count": 3,
   "metadata": {},
   "outputs": [
    {
     "name": "stderr",
     "output_type": "stream",
     "text": [
      "C:\\Users\\KimYiuLui\\Anaconda3\\envs\\minor\\lib\\site-packages\\pandas\\core\\generic.py:6245: SettingWithCopyWarning: \n",
      "A value is trying to be set on a copy of a slice from a DataFrame\n",
      "\n",
      "See the caveats in the documentation: https://pandas.pydata.org/pandas-docs/stable/user_guide/indexing.html#returning-a-view-versus-a-copy\n",
      "  self._update_inplace(new_data)\n"
     ]
    },
    {
     "data": {
      "text/html": [
       "<div>\n",
       "<style scoped>\n",
       "    .dataframe tbody tr th:only-of-type {\n",
       "        vertical-align: middle;\n",
       "    }\n",
       "\n",
       "    .dataframe tbody tr th {\n",
       "        vertical-align: top;\n",
       "    }\n",
       "\n",
       "    .dataframe thead th {\n",
       "        text-align: right;\n",
       "    }\n",
       "</style>\n",
       "<table border=\"1\" class=\"dataframe\">\n",
       "  <thead>\n",
       "    <tr style=\"text-align: right;\">\n",
       "      <th></th>\n",
       "      <th>Title</th>\n",
       "      <th>Description</th>\n",
       "    </tr>\n",
       "  </thead>\n",
       "  <tbody>\n",
       "    <tr>\n",
       "      <th>27</th>\n",
       "      <td>1001 Reasons Why Eastenders is Pony!</td>\n",
       "      <td>unknown</td>\n",
       "    </tr>\n",
       "    <tr>\n",
       "      <th>60</th>\n",
       "      <td>Woodworking for Beginners Handbook : The Step-...</td>\n",
       "      <td>unknown</td>\n",
       "    </tr>\n",
       "    <tr>\n",
       "      <th>146</th>\n",
       "      <td>30 Vehicle Toys of Wood</td>\n",
       "      <td>unknown</td>\n",
       "    </tr>\n",
       "    <tr>\n",
       "      <th>171</th>\n",
       "      <td>100 Ideas for Secondary Teachers: Supporting S...</td>\n",
       "      <td>unknown</td>\n",
       "    </tr>\n",
       "    <tr>\n",
       "      <th>174</th>\n",
       "      <td>100 Ideas for Secondary Teachers: Stretch and ...</td>\n",
       "      <td>unknown</td>\n",
       "    </tr>\n",
       "    <tr>\n",
       "      <th>...</th>\n",
       "      <td>...</td>\n",
       "      <td>...</td>\n",
       "    </tr>\n",
       "    <tr>\n",
       "      <th>43939</th>\n",
       "      <td>365 Days of Ultrarunning : One Man's Life Chan...</td>\n",
       "      <td>unknown</td>\n",
       "    </tr>\n",
       "    <tr>\n",
       "      <th>43947</th>\n",
       "      <td>39 Days of Gazza</td>\n",
       "      <td>unknown</td>\n",
       "    </tr>\n",
       "    <tr>\n",
       "      <th>44052</th>\n",
       "      <td>3:59.4 : The Quest for the Four-minute Mile</td>\n",
       "      <td>unknown</td>\n",
       "    </tr>\n",
       "    <tr>\n",
       "      <th>44063</th>\n",
       "      <td>80 Years of Moto Guzzi Motorcycles</td>\n",
       "      <td>unknown</td>\n",
       "    </tr>\n",
       "    <tr>\n",
       "      <th>44156</th>\n",
       "      <td>101 Games and Drills for Martial Arts</td>\n",
       "      <td>unknown</td>\n",
       "    </tr>\n",
       "  </tbody>\n",
       "</table>\n",
       "<p>1384 rows × 2 columns</p>\n",
       "</div>"
      ],
      "text/plain": [
       "                                                   Title Description\n",
       "27                  1001 Reasons Why Eastenders is Pony!     unknown\n",
       "60     Woodworking for Beginners Handbook : The Step-...     unknown\n",
       "146                              30 Vehicle Toys of Wood     unknown\n",
       "171    100 Ideas for Secondary Teachers: Supporting S...     unknown\n",
       "174    100 Ideas for Secondary Teachers: Stretch and ...     unknown\n",
       "...                                                  ...         ...\n",
       "43939  365 Days of Ultrarunning : One Man's Life Chan...     unknown\n",
       "43947                                   39 Days of Gazza     unknown\n",
       "44052        3:59.4 : The Quest for the Four-minute Mile     unknown\n",
       "44063                 80 Years of Moto Guzzi Motorcycles     unknown\n",
       "44156              101 Games and Drills for Martial Arts     unknown\n",
       "\n",
       "[1384 rows x 2 columns]"
      ]
     },
     "execution_count": 3,
     "metadata": {},
     "output_type": "execute_result"
    }
   ],
   "source": [
    "# fill empty description with unknown instead of removing it\n",
    "# because in real life example a description might be added later\n",
    "data['Description'].fillna(\"unknown\", inplace=True)\n",
    "data.loc[data[\"Description\"]==\"unknown\"]\n"
   ]
  },
  {
   "cell_type": "code",
   "execution_count": 4,
   "metadata": {},
   "outputs": [
    {
     "name": "stderr",
     "output_type": "stream",
     "text": [
      "C:\\Users\\KimYiuLui\\Anaconda3\\envs\\minor\\lib\\site-packages\\pandas\\core\\indexing.py:671: SettingWithCopyWarning: \n",
      "A value is trying to be set on a copy of a slice from a DataFrame\n",
      "\n",
      "See the caveats in the documentation: https://pandas.pydata.org/pandas-docs/stable/user_guide/indexing.html#returning-a-view-versus-a-copy\n",
      "  self._setitem_with_indexer(indexer, value)\n",
      "C:\\Users\\KimYiuLui\\Anaconda3\\envs\\minor\\lib\\site-packages\\ipykernel_launcher.py:1: SettingWithCopyWarning: \n",
      "A value is trying to be set on a copy of a slice from a DataFrame\n",
      "\n",
      "See the caveats in the documentation: https://pandas.pydata.org/pandas-docs/stable/user_guide/indexing.html#returning-a-view-versus-a-copy\n",
      "  \"\"\"Entry point for launching an IPython kernel.\n"
     ]
    },
    {
     "data": {
      "text/html": [
       "<div>\n",
       "<style scoped>\n",
       "    .dataframe tbody tr th:only-of-type {\n",
       "        vertical-align: middle;\n",
       "    }\n",
       "\n",
       "    .dataframe tbody tr th {\n",
       "        vertical-align: top;\n",
       "    }\n",
       "\n",
       "    .dataframe thead th {\n",
       "        text-align: right;\n",
       "    }\n",
       "</style>\n",
       "<table border=\"1\" class=\"dataframe\">\n",
       "  <thead>\n",
       "    <tr style=\"text-align: right;\">\n",
       "      <th></th>\n",
       "      <th>Title</th>\n",
       "      <th>Description</th>\n",
       "    </tr>\n",
       "  </thead>\n",
       "  <tbody>\n",
       "  </tbody>\n",
       "</table>\n",
       "</div>"
      ],
      "text/plain": [
       "Empty DataFrame\n",
       "Columns: [Title, Description]\n",
       "Index: []"
      ]
     },
     "execution_count": 4,
     "metadata": {},
     "output_type": "execute_result"
    }
   ],
   "source": [
    "data.loc[data[\"Description\"]==\"unknown\", 'Description'] = str(data.loc[data['Description']==\"\"]['Title'])\n",
    "data.loc[data[\"Description\"]==\"unknown\"]"
   ]
  },
  {
   "cell_type": "code",
   "execution_count": 5,
   "metadata": {},
   "outputs": [],
   "source": [
    "# function to clean the description.\n",
    "stop = text.ENGLISH_STOP_WORDS\n",
    "\n",
    "def remove_noise(text):\n",
    "\n",
    "    # Make lowercase\n",
    "    text = text.apply(lambda x: \" \".join(x.lower() for x in x.split()))\n",
    "    \n",
    "    # Remove whitespaces\n",
    "    text = text.apply(lambda x: \" \".join(x.strip() for x in x.split()))\n",
    "    \n",
    "    text = text.replace('\\n', ' ')\n",
    "    \n",
    "    # Remove special characters\n",
    "    text = text.apply(lambda x: \"\".join([\" \" if ord(i) < 32 or ord(i) > 126 else i for i in x]))\n",
    "    \n",
    "    # Remove punctuation\n",
    "    text = text.str.replace('[^\\w\\s]', '')\n",
    "    \n",
    "    # Remove numbers\n",
    "    text = text.str.replace('\\d+', '')\n",
    "    \n",
    "    # Remove Stopwords\n",
    "    text = text.apply(lambda x: ' '.join([word for word in x.split() if word not in (stop)]))\n",
    "    \n",
    "    # Convert to string\n",
    "    text = text.astype(str)\n",
    "        \n",
    "    return text\n",
    "\n",
    "#function to combine title with description, so title will become a keyword as well.\n",
    "def combine_title_and_description(title, desc):\n",
    "    combine = title + desc\n",
    "    combine = remove_noise(desc)\n",
    "    return combine"
   ]
  },
  {
   "cell_type": "code",
   "execution_count": 6,
   "metadata": {},
   "outputs": [
    {
     "name": "stderr",
     "output_type": "stream",
     "text": [
      "C:\\Users\\KimYiuLui\\Anaconda3\\envs\\minor\\lib\\site-packages\\ipykernel_launcher.py:2: SettingWithCopyWarning: \n",
      "A value is trying to be set on a copy of a slice from a DataFrame.\n",
      "Try using .loc[row_indexer,col_indexer] = value instead\n",
      "\n",
      "See the caveats in the documentation: https://pandas.pydata.org/pandas-docs/stable/user_guide/indexing.html#returning-a-view-versus-a-copy\n",
      "  \n"
     ]
    }
   ],
   "source": [
    "#create new column and fill the column with cleaned description\n",
    "data[\"cleaned_desc\"] = combine_title_and_description(data[\"Title\"], data[\"Description\"])"
   ]
  },
  {
   "cell_type": "code",
   "execution_count": 7,
   "metadata": {},
   "outputs": [
    {
     "name": "stderr",
     "output_type": "stream",
     "text": [
      "C:\\Users\\KimYiuLui\\Anaconda3\\envs\\minor\\lib\\site-packages\\ipykernel_launcher.py:16: SettingWithCopyWarning: \n",
      "A value is trying to be set on a copy of a slice from a DataFrame.\n",
      "Try using .loc[row_indexer,col_indexer] = value instead\n",
      "\n",
      "See the caveats in the documentation: https://pandas.pydata.org/pandas-docs/stable/user_guide/indexing.html#returning-a-view-versus-a-copy\n",
      "  app.launch_new_instance()\n"
     ]
    }
   ],
   "source": [
    "# tokenize and further reduce common words\n",
    "token_desc = []\n",
    "for index, row in data.iterrows():\n",
    "    token_desc.append(word_tokenize(row[\"cleaned_desc\"]))\n",
    "    \n",
    "filter_token = []\n",
    "for arr in token_desc:\n",
    "    temp = []\n",
    "    for i in arr:\n",
    "        if not i in stopwords and len(temp) <= 67:\n",
    "            temp.append(i)\n",
    "        if len(temp) >= 67:\n",
    "            break\n",
    "    filter_token.append(temp)  \n",
    "    \n",
    "data['token_desc'] = filter_token"
   ]
  },
  {
   "cell_type": "code",
   "execution_count": 8,
   "metadata": {},
   "outputs": [
    {
     "name": "stdout",
     "output_type": "stream",
     "text": [
      "34.72521982865797\n",
      "0\n",
      "67\n"
     ]
    }
   ],
   "source": [
    "from statistics import mean\n",
    "sentence_lengths = [len(tokens) for tokens in data['token_desc']]\n",
    "print(mean(sentence_lengths))\n",
    "print(min(sentence_lengths))\n",
    "print(max(sentence_lengths))"
   ]
  },
  {
   "cell_type": "code",
   "execution_count": 9,
   "metadata": {},
   "outputs": [
    {
     "name": "stderr",
     "output_type": "stream",
     "text": [
      "C:\\Users\\KimYiuLui\\Anaconda3\\envs\\minor\\lib\\site-packages\\ipykernel_launcher.py:10: SettingWithCopyWarning: \n",
      "A value is trying to be set on a copy of a slice from a DataFrame.\n",
      "Try using .loc[row_indexer,col_indexer] = value instead\n",
      "\n",
      "See the caveats in the documentation: https://pandas.pydata.org/pandas-docs/stable/user_guide/indexing.html#returning-a-view-versus-a-copy\n",
      "  # Remove the CWD from sys.path while we load stuff.\n"
     ]
    }
   ],
   "source": [
    "#turn the array of token in 1 string\n",
    "token2string = []\n",
    "columns = ['token_desc'] \n",
    "for index, row in data.iterrows():\n",
    "    words = ''\n",
    "    for col in columns:\n",
    "        words += ' '.join(row[col]) + ' '\n",
    "    token2string.append(words)\n",
    "    \n",
    "data['bag_of_word'] = token2string"
   ]
  },
  {
   "cell_type": "code",
   "execution_count": 10,
   "metadata": {},
   "outputs": [],
   "source": [
    "# set sentence transformer to bert pretrained model. \n",
    "# set device to cuda if you have cuda else remove device but it will take a long time with cpu (hours!!!)\n",
    "from sentence_transformers import SentenceTransformer\n",
    "sbert_model = SentenceTransformer('bert-base-nli-mean-tokens', device='cuda')"
   ]
  },
  {
   "cell_type": "code",
   "execution_count": 11,
   "metadata": {},
   "outputs": [],
   "source": [
    "# # encode the bag_of_word\n",
    "document_embeddings = sbert_model.encode(data['bag_of_word'])"
   ]
  },
  {
   "cell_type": "code",
   "execution_count": 12,
   "metadata": {},
   "outputs": [
    {
     "data": {
      "text/html": [
       "<div>\n",
       "<style scoped>\n",
       "    .dataframe tbody tr th:only-of-type {\n",
       "        vertical-align: middle;\n",
       "    }\n",
       "\n",
       "    .dataframe tbody tr th {\n",
       "        vertical-align: top;\n",
       "    }\n",
       "\n",
       "    .dataframe thead th {\n",
       "        text-align: right;\n",
       "    }\n",
       "</style>\n",
       "<table border=\"1\" class=\"dataframe\">\n",
       "  <thead>\n",
       "    <tr style=\"text-align: right;\">\n",
       "      <th></th>\n",
       "      <th>Title</th>\n",
       "      <th>Description</th>\n",
       "      <th>cleaned_desc</th>\n",
       "      <th>token_desc</th>\n",
       "      <th>bag_of_word</th>\n",
       "    </tr>\n",
       "  </thead>\n",
       "  <tbody>\n",
       "    <tr>\n",
       "      <th>0</th>\n",
       "      <td>1984</td>\n",
       "      <td>Renowned urban artist Shepard Fairey's new loo...</td>\n",
       "      <td>renowned urban artist shepard faireys new look...</td>\n",
       "      <td>[renowned, urban, artist, shepard, faireys, ne...</td>\n",
       "      <td>renowned urban artist shepard faireys new look...</td>\n",
       "    </tr>\n",
       "    <tr>\n",
       "      <th>1</th>\n",
       "      <td>100 Deadly Skills: Survival Edition : The SEAL...</td>\n",
       "      <td>These 100 skills, adapted for civilians from a...</td>\n",
       "      <td>skills adapted civilians actual field experien...</td>\n",
       "      <td>[skills, adapted, civilians, actual, field, ex...</td>\n",
       "      <td>skills adapted civilians actual field experien...</td>\n",
       "    </tr>\n",
       "    <tr>\n",
       "      <th>2</th>\n",
       "      <td>The 100 Most Pointless Things in the World : A...</td>\n",
       "      <td>The world is full of pointless things. From ra...</td>\n",
       "      <td>world pointless things rail replacement bus se...</td>\n",
       "      <td>[world, pointless, things, rail, replacement, ...</td>\n",
       "      <td>world pointless things rail replacement bus se...</td>\n",
       "    </tr>\n",
       "    <tr>\n",
       "      <th>3</th>\n",
       "      <td>50 Knitted Dolls</td>\n",
       "      <td>Delight children and adults alike by creating ...</td>\n",
       "      <td>delight children adults alike creating host fu...</td>\n",
       "      <td>[delight, children, adults, alike, creating, h...</td>\n",
       "      <td>delight children adults alike creating host fu...</td>\n",
       "    </tr>\n",
       "    <tr>\n",
       "      <th>4</th>\n",
       "      <td>20 to Knit: Pocket Pets</td>\n",
       "      <td>Make your own collection of irresistibly cute ...</td>\n",
       "      <td>make collection irresistibly cute knitted anim...</td>\n",
       "      <td>[collection, irresistibly, cute, knitted, anim...</td>\n",
       "      <td>collection irresistibly cute knitted animals s...</td>\n",
       "    </tr>\n",
       "    <tr>\n",
       "      <th>...</th>\n",
       "      <td>...</td>\n",
       "      <td>...</td>\n",
       "      <td>...</td>\n",
       "      <td>...</td>\n",
       "      <td>...</td>\n",
       "    </tr>\n",
       "    <tr>\n",
       "      <th>44234</th>\n",
       "      <td>100 Greatest Cycling Climbs : A Road Cyclist's...</td>\n",
       "      <td>'A must-have for any British cyclist and an es...</td>\n",
       "      <td>musthave british cyclist essential read thinks...</td>\n",
       "      <td>[musthave, british, cyclist, essential, read, ...</td>\n",
       "      <td>musthave british cyclist essential read thinks...</td>\n",
       "    </tr>\n",
       "    <tr>\n",
       "      <th>44235</th>\n",
       "      <td>2020 Biddy Tarot Planner</td>\n",
       "      <td>The Ultimate Companion for Your Most Powerful ...</td>\n",
       "      <td>ultimate companion powerful year</td>\n",
       "      <td>[ultimate, companion, powerful, year]</td>\n",
       "      <td>ultimate companion powerful year</td>\n",
       "    </tr>\n",
       "    <tr>\n",
       "      <th>44236</th>\n",
       "      <td>100 Greatest Cycling Climbs of Italy : A guide...</td>\n",
       "      <td>'The latest book from the inestimable and seem...</td>\n",
       "      <td>latest book inestimable seemingly irrepressibl...</td>\n",
       "      <td>[latest, book, inestimable, seemingly, irrepre...</td>\n",
       "      <td>latest book inestimable seemingly irrepressibl...</td>\n",
       "    </tr>\n",
       "    <tr>\n",
       "      <th>44237</th>\n",
       "      <td>40 Winks : A Narcoleptic's Journey Through Sle...</td>\n",
       "      <td>40 Winks takes readers on a journey into the m...</td>\n",
       "      <td>winks takes readers journey mind narcoleptic r...</td>\n",
       "      <td>[winks, takes, readers, journey, mind, narcole...</td>\n",
       "      <td>winks takes readers journey mind narcoleptic r...</td>\n",
       "    </tr>\n",
       "    <tr>\n",
       "      <th>44238</th>\n",
       "      <td>1001 Musclebuilding Tips</td>\n",
       "      <td>Robert Kennedy is renowned throughout the body...</td>\n",
       "      <td>robert kennedy renowned bodybuilding field wor...</td>\n",
       "      <td>[robert, kennedy, renowned, bodybuilding, fiel...</td>\n",
       "      <td>robert kennedy renowned bodybuilding field wor...</td>\n",
       "    </tr>\n",
       "  </tbody>\n",
       "</table>\n",
       "<p>44239 rows × 5 columns</p>\n",
       "</div>"
      ],
      "text/plain": [
       "                                                   Title  \\\n",
       "0                                                   1984   \n",
       "1      100 Deadly Skills: Survival Edition : The SEAL...   \n",
       "2      The 100 Most Pointless Things in the World : A...   \n",
       "3                                       50 Knitted Dolls   \n",
       "4                                20 to Knit: Pocket Pets   \n",
       "...                                                  ...   \n",
       "44234  100 Greatest Cycling Climbs : A Road Cyclist's...   \n",
       "44235                           2020 Biddy Tarot Planner   \n",
       "44236  100 Greatest Cycling Climbs of Italy : A guide...   \n",
       "44237  40 Winks : A Narcoleptic's Journey Through Sle...   \n",
       "44238                           1001 Musclebuilding Tips   \n",
       "\n",
       "                                             Description  \\\n",
       "0      Renowned urban artist Shepard Fairey's new loo...   \n",
       "1      These 100 skills, adapted for civilians from a...   \n",
       "2      The world is full of pointless things. From ra...   \n",
       "3      Delight children and adults alike by creating ...   \n",
       "4      Make your own collection of irresistibly cute ...   \n",
       "...                                                  ...   \n",
       "44234  'A must-have for any British cyclist and an es...   \n",
       "44235  The Ultimate Companion for Your Most Powerful ...   \n",
       "44236  'The latest book from the inestimable and seem...   \n",
       "44237  40 Winks takes readers on a journey into the m...   \n",
       "44238  Robert Kennedy is renowned throughout the body...   \n",
       "\n",
       "                                            cleaned_desc  \\\n",
       "0      renowned urban artist shepard faireys new look...   \n",
       "1      skills adapted civilians actual field experien...   \n",
       "2      world pointless things rail replacement bus se...   \n",
       "3      delight children adults alike creating host fu...   \n",
       "4      make collection irresistibly cute knitted anim...   \n",
       "...                                                  ...   \n",
       "44234  musthave british cyclist essential read thinks...   \n",
       "44235                   ultimate companion powerful year   \n",
       "44236  latest book inestimable seemingly irrepressibl...   \n",
       "44237  winks takes readers journey mind narcoleptic r...   \n",
       "44238  robert kennedy renowned bodybuilding field wor...   \n",
       "\n",
       "                                              token_desc  \\\n",
       "0      [renowned, urban, artist, shepard, faireys, ne...   \n",
       "1      [skills, adapted, civilians, actual, field, ex...   \n",
       "2      [world, pointless, things, rail, replacement, ...   \n",
       "3      [delight, children, adults, alike, creating, h...   \n",
       "4      [collection, irresistibly, cute, knitted, anim...   \n",
       "...                                                  ...   \n",
       "44234  [musthave, british, cyclist, essential, read, ...   \n",
       "44235              [ultimate, companion, powerful, year]   \n",
       "44236  [latest, book, inestimable, seemingly, irrepre...   \n",
       "44237  [winks, takes, readers, journey, mind, narcole...   \n",
       "44238  [robert, kennedy, renowned, bodybuilding, fiel...   \n",
       "\n",
       "                                             bag_of_word  \n",
       "0      renowned urban artist shepard faireys new look...  \n",
       "1      skills adapted civilians actual field experien...  \n",
       "2      world pointless things rail replacement bus se...  \n",
       "3      delight children adults alike creating host fu...  \n",
       "4      collection irresistibly cute knitted animals s...  \n",
       "...                                                  ...  \n",
       "44234  musthave british cyclist essential read thinks...  \n",
       "44235                  ultimate companion powerful year   \n",
       "44236  latest book inestimable seemingly irrepressibl...  \n",
       "44237  winks takes readers journey mind narcoleptic r...  \n",
       "44238  robert kennedy renowned bodybuilding field wor...  \n",
       "\n",
       "[44239 rows x 5 columns]"
      ]
     },
     "execution_count": 12,
     "metadata": {},
     "output_type": "execute_result"
    }
   ],
   "source": [
    "data"
   ]
  },
  {
   "cell_type": "code",
   "execution_count": 13,
   "metadata": {},
   "outputs": [],
   "source": [
    "#create cosine similarity matrix\n",
    "pairwise_similarities = cosine_similarity(document_embeddings)"
   ]
  },
  {
   "cell_type": "code",
   "execution_count": 14,
   "metadata": {},
   "outputs": [],
   "source": [
    "indices = pd.Series(df['title'])\n",
    "def recommend(title, cosine_sim):\n",
    "    recommend_books = []\n",
    "    idx = indices[indices == title].index[0]\n",
    "    score_series = pd.Series(cosine_sim[idx]).sort_values(ascending = False)\n",
    "    top_10_indices = list(score_series.iloc[1:11].index)\n",
    "    print(score_series.iloc[1:11])\n",
    "    for i in top_10_indices:\n",
    "        # we use df here because the index of df should be the samen as data\n",
    "        # also easier to obtain other information about of the similair books\n",
    "        recommend_books.append(list(df['title'])[i])\n",
    "        \n",
    "    return recommend_books"
   ]
  },
  {
   "cell_type": "code",
   "execution_count": 15,
   "metadata": {},
   "outputs": [
    {
     "name": "stdout",
     "output_type": "stream",
     "text": [
      "27210    0.892823\n",
      "40668    0.874526\n",
      "40528    0.871376\n",
      "40997    0.870332\n",
      "22949    0.863301\n",
      "39587    0.857284\n",
      "40788    0.852373\n",
      "39642    0.849706\n",
      "40786    0.836470\n",
      "40613    0.823655\n",
      "dtype: float32\n"
     ]
    },
    {
     "data": {
      "text/plain": [
       "['3D Photorealistic Rendering : Interiors & Exteriors with V-Ray and 3ds Max',\n",
       " 'The Web Collection, Revealed Premium Edition : Adobe Dreamweaver CS6, Flash CS6 and Photoshop CS6',\n",
       " 'Adobe InDesign CS6 Revealed',\n",
       " '100% Photoshop : Create stunning illustrations without using any photographs',\n",
       " '75 Portraits By Hernan Rodriguez : Master Lighting and Posing Techniques for Digital Portrait Photographers',\n",
       " 'Exploring Adobe Illustrator CS6',\n",
       " 'Adobe Photoshop CC Advanced and Basics of Photo Editing Techniques',\n",
       " 'Final Cut Studio On the Spot',\n",
       " '3D Game Textures : Create Professional Game Art Using Photoshop',\n",
       " '3D Motion Graphics for 2D Artists : Conquering the Third Dimension']"
      ]
     },
     "execution_count": 15,
     "metadata": {},
     "output_type": "execute_result"
    }
   ],
   "source": [
    "recommend('Adobe Photoshop CC for Photographers 2018', pairwise_similarities)"
   ]
  },
  {
   "cell_type": "code",
   "execution_count": 16,
   "metadata": {},
   "outputs": [
    {
     "name": "stdout",
     "output_type": "stream",
     "text": [
      "30572    0.738718\n",
      "26574    0.738718\n",
      "8583     0.728271\n",
      "2518     0.713982\n",
      "17962    0.708087\n",
      "18430    0.697441\n",
      "7789     0.696577\n",
      "34082    0.694232\n",
      "20039    0.692503\n",
      "39368    0.691721\n",
      "dtype: float32\n"
     ]
    },
    {
     "data": {
      "text/plain": [
       "['And, when you want something, all the universe conspires in helping you to achieve it. : Diary with Alchemist cover for inspiration to Write In Ideas and keeping dream memories book Journal Notebook',\n",
       " '4 am. knows all my secret : Journal notebook Diary for inspiration Secret Dream Blank Lined Travel to Write In Funny Ideas and keeping dream memories book',\n",
       " 'SketchUp For Dummies',\n",
       " '101 Great Classroom Games',\n",
       " 'Shipping Container Homes : How to Move Into a Shipping Container Home (a Step by Step Guide)',\n",
       " 'Mandala Coloring Books Amazing Drawing 10 th Birthday : 2020 and All the time gifts ideas about 120 Unique Meditation Designs',\n",
       " 'The Taste of Different Dimensions : 15 Fantasy Tales from a Master Storyteller',\n",
       " '2018-2019 At A Glance : Academic Planner Ultimate Daily Weekly, Monthly Schedule Diary, Calendar Organizer With Quotes, Get Things Done Journal Notebook, Aug 2018 To July 2019 Great Gift For School, College, Office, Home, Men, Women, Boys, Girls Medium Siz',\n",
       " 'Patterns Coloring Book, Volume 2',\n",
       " '301 Ways to Use Social Media To Boost Your Marketing']"
      ]
     },
     "execution_count": 16,
     "metadata": {},
     "output_type": "execute_result"
    }
   ],
   "source": [
    "recommend('Unity 5: Learning C# by Developing Games', pairwise_similarities)"
   ]
  },
  {
   "cell_type": "code",
   "execution_count": 17,
   "metadata": {},
   "outputs": [
    {
     "name": "stdout",
     "output_type": "stream",
     "text": [
      "2843     0.830476\n",
      "15968    0.827861\n",
      "20508    0.822118\n",
      "38230    0.821844\n",
      "40560    0.815479\n",
      "16513    0.814509\n",
      "36799    0.810439\n",
      "8926     0.803354\n",
      "4142     0.801555\n",
      "4362     0.798530\n",
      "dtype: float32\n"
     ]
    },
    {
     "data": {
      "text/plain": [
       "['10 Commandments of Money : Survive and Thrive in the New Economy',\n",
       " 'Back to Basics : How to Move Dirt Efficiently',\n",
       " 'My Marketing History Book',\n",
       " '1001 Ways to Say Thank You',\n",
       " 'Blender 2.49 Scripting',\n",
       " '101 Reasons Why You Must Write a Book',\n",
       " 'Consumer Credit Law and Practice - A Guide',\n",
       " '99 Tricks and Traps for Microsoft Office Project 2013',\n",
       " '5 Steps for Selecting the Best Financial Advisor : How the Internet Has Changed the Game for Investors and Financial Advisors',\n",
       " 'So You Graduated College : A Financial Guide to Life After Graduation']"
      ]
     },
     "execution_count": 17,
     "metadata": {},
     "output_type": "execute_result"
    }
   ],
   "source": [
    "recommend('Basic Python in Finance : How to Implement Financial Trading Strategies and Analysis using Python', pairwise_similarities)"
   ]
  },
  {
   "cell_type": "code",
   "execution_count": 18,
   "metadata": {},
   "outputs": [
    {
     "name": "stdout",
     "output_type": "stream",
     "text": [
      "25930    0.732664\n",
      "26703    0.728460\n",
      "26511    0.725253\n",
      "27097    0.724055\n",
      "26294    0.720788\n",
      "26527    0.720054\n",
      "22403    0.717235\n",
      "25998    0.716707\n",
      "25791    0.713654\n",
      "42905    0.709499\n",
      "dtype: float32\n"
     ]
    },
    {
     "data": {
      "text/plain": [
       "['2G No. 79: Muoto',\n",
       " 'Oase 85 - Productive Uncertainty',\n",
       " 'Alison and Peter Smithson',\n",
       " '400 Fifth Avenue : Gwathmey Siegel',\n",
       " '100 Years of Architecture',\n",
       " '1 Finsbury Avenue : Innovative Office Architecture from Arup to AHMM',\n",
       " 'Hollow City : The Siege of San Francisco and the Crisis of American Urbanism',\n",
       " '21st Century Tokyo: A Guide To Contemporary Architecture',\n",
       " '1972 : Nakagin Capsule Tower',\n",
       " 'Manchester : Something Rich and Strange']"
      ]
     },
     "execution_count": 18,
     "metadata": {},
     "output_type": "execute_result"
    }
   ],
   "source": [
    "recommend('1984', pairwise_similarities)"
   ]
  },
  {
   "cell_type": "code",
   "execution_count": null,
   "metadata": {},
   "outputs": [],
   "source": []
  }
 ],
 "metadata": {
  "kernelspec": {
   "display_name": "Python 3",
   "language": "python",
   "name": "python3"
  },
  "language_info": {
   "codemirror_mode": {
    "name": "ipython",
    "version": 3
   },
   "file_extension": ".py",
   "mimetype": "text/x-python",
   "name": "python",
   "nbconvert_exporter": "python",
   "pygments_lexer": "ipython3",
   "version": "3.7.7"
  }
 },
 "nbformat": 4,
 "nbformat_minor": 4
}
