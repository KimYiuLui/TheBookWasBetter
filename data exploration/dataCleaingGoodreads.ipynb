{
 "cells": [
  {
   "cell_type": "markdown",
   "metadata": {},
   "source": [
    "You need the .gz files from https://sites.google.com/eng.ucsd.edu/ucsdbookgraph/home"
   ]
  },
  {
   "cell_type": "code",
   "execution_count": 6,
   "metadata": {},
   "outputs": [],
   "source": [
    "import gzip\n",
    "import json\n",
    "import re\n",
    "import os\n",
    "import sys\n",
    "import numpy as np\n",
    "import pandas as pd\n",
    "\n",
    "# to delete all unnecessary columns and select all english books of \"goodreads_books.json.gz\" \n",
    "lang = ['en', 'en-CA', 'en-US', 'en-GB', 'eng']\n",
    "toDel = ['country_code', 'is_ebook', 'kindle_asin',  'link', 'url','publication_day', 'publication_month', 'num_pages', 'popular_shelves']\n",
    "\n",
    "def load_data(file_name, start, end):\n",
    "    count = 0\n",
    "    data = []\n",
    "    with gzip.open(file_name) as fin:\n",
    "        for l in fin:\n",
    "            if count < start:\n",
    "                count += 1\n",
    "                continue\n",
    "            elif count >= end:\n",
    "                break\n",
    "            else:\n",
    "                d = json.loads(l)\n",
    "                if d['language_code'] in lang:\n",
    "                    for element in toDel:\n",
    "                        d.pop(element)\n",
    "                    data.append(d)\n",
    "                count += 1\n",
    "        print(len(data))\n",
    "        return data\n",
    "DIR = './'"
   ]
  },
  {
   "cell_type": "code",
   "execution_count": 7,
   "metadata": {},
   "outputs": [
    {
     "name": "stdout",
     "output_type": "stream",
     "text": [
      "131560\n"
     ]
    }
   ],
   "source": [
    "# books = load_data(os.path.join(DIR, 'goodreads_books.json.gz'),0,500000)\n",
    "# books = load_data(os.path.join(DIR, 'goodreads_books.json.gz'),500000,1000000)\n",
    "# books = load_data(os.path.join(DIR, 'goodreads_books.json.gz'),1000000,1500000)\n",
    "# books = load_data(os.path.join(DIR, 'goodreads_books.json.gz'),1500000,2000000)\n",
    "# books = load_data(os.path.join(DIR, 'goodreads_books.json.gz'),2000000, 2370000)"
   ]
  },
  {
   "cell_type": "code",
   "execution_count": null,
   "metadata": {},
   "outputs": [],
   "source": [
    "with open('goodreadsBooks.json', 'w', encoding='utf-8') as f:\n",
    "    f.write(json.dumps(books, ensure_ascii=False))"
   ]
  },
  {
   "cell_type": "code",
   "execution_count": null,
   "metadata": {},
   "outputs": [],
   "source": [
    "def load_all_data(file_name):\n",
    "    data = []\n",
    "    with gzip.open(file_name) as fin:\n",
    "        for l in fin:\n",
    "            d = json.loads(l)\n",
    "            data.append(d)\n",
    "            \n",
    "        print(len(data))\n",
    "        return data\n",
    "DIR = './'"
   ]
  },
  {
   "cell_type": "code",
   "execution_count": null,
   "metadata": {},
   "outputs": [],
   "source": [
    "genre = load_all_data(os.path.join(DIR, 'goodreads_book_genres_initial.json.gz'))\n",
    "with open('goodreadsGenre.json', 'w', encoding='utf-8') as f:\n",
    "    f.write(json.dumps(genre, ensure_ascii=False))\n"
   ]
  },
  {
   "cell_type": "code",
   "execution_count": null,
   "metadata": {},
   "outputs": [],
   "source": [
    "author = load_all_data(os.path.join(DIR, 'goodreads_book_authors.json.gz'))\n",
    "with open('goodreadsAuthors.json', 'w', encoding='utf-8') as f:\n",
    "    f.write(json.dumps(author, ensure_ascii=False))"
   ]
  },
  {
   "cell_type": "code",
   "execution_count": null,
   "metadata": {},
   "outputs": [],
   "source": [
    "toDel = ['review_text', 'date_added', 'date_updated', 'read_at', 'started_at', 'n_votes', 'n_comments', 'review_id']\n",
    "\n",
    "def load_data(file_name, start, end):\n",
    "    count = 0\n",
    "    data = []\n",
    "    with gzip.open(file_name) as fin:\n",
    "        for l in fin:\n",
    "            if count < start:\n",
    "                count += 1\n",
    "                continue\n",
    "            elif count >= end:\n",
    "                break\n",
    "            else:\n",
    "                d = json.loads(l)\n",
    "                for element in toDel:\n",
    "                    d.pop(element)\n",
    "                data.append(d)\n",
    "                count += 1\n",
    "        print(len(data))\n",
    "        return data\n",
    "DIR = './'\n",
    "\n",
    "review = load_data(os.path.join(DIR, 'goodreads_reviews_dedup.json.gz'),12000000, 15000000)"
   ]
  },
  {
   "cell_type": "code",
   "execution_count": null,
   "metadata": {},
   "outputs": [],
   "source": [
    "with open('goodreadsReview4.json', 'w', encoding='utf-8') as f:\n",
    "    f.write(json.dumps(review, ensure_ascii=False))"
   ]
  },
  {
   "cell_type": "code",
   "execution_count": null,
   "metadata": {},
   "outputs": [],
   "source": []
  }
 ],
 "metadata": {
  "kernelspec": {
   "display_name": "Python 3",
   "language": "python",
   "name": "python3"
  },
  "language_info": {
   "codemirror_mode": {
    "name": "ipython",
    "version": 3
   },
   "file_extension": ".py",
   "mimetype": "text/x-python",
   "name": "python",
   "nbconvert_exporter": "python",
   "pygments_lexer": "ipython3",
   "version": "3.7.7"
  }
 },
 "nbformat": 4,
 "nbformat_minor": 2
}
