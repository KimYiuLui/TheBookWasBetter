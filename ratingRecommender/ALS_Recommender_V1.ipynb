{
 "cells": [
  {
   "cell_type": "code",
   "execution_count": 1,
   "metadata": {},
   "outputs": [],
   "source": [
    "import pandas as pd\n",
    "import matplotlib.pyplot as plt\n",
    "\n",
    "#spark imports\n",
    "from pyspark.ml.evaluation import RegressionEvaluator\n",
    "from pyspark.ml.recommendation import ALS\n",
    "from pyspark.sql import Row, SparkSession\n",
    "from pyspark.ml.tuning import ParamGridBuilder, CrossValidator \n",
    "\n",
    "spark = SparkSession.builder.appName('Recommendation_system').getOrCreate()"
   ]
  },
  {
   "cell_type": "code",
   "execution_count": 2,
   "metadata": {},
   "outputs": [
    {
     "name": "stdout",
     "output_type": "stream",
     "text": [
      "+---+--------+------------+-----------+-------------+--------------------+-------------------------+--------------------+--------------+-------------+------------------+-----------------------+--------------------+\n",
      "| id| book_id|best_book_id|books_count|       isbn13|             authors|original_publication_year|      original_title|average_rating|ratings_count|work_ratings_count|work_text_reviews_count|           image_url|\n",
      "+---+--------+------------+-----------+-------------+--------------------+-------------------------+--------------------+--------------+-------------+------------------+-----------------------+--------------------+\n",
      "|  1| 2767052|     2767052|        272|9780439023480|     Suzanne Collins|                     2008|    The Hunger Games|          4.34|      4780653|         4942365.0|                 155254|https://images.gr...|\n",
      "|  2|       3|           3|        491|9780439554930|J.K. Rowling, Mar...|                     1997|Harry Potter and ...|          4.44|      4602479|         4800065.0|                  75867|https://images.gr...|\n",
      "|  3|   41865|       41865|        226|9780316015840|     Stephenie Meyer|                     2005|            Twilight|          3.57|      3866839|         3916824.0|                  95009|https://images.gr...|\n",
      "|  4|    2657|        2657|        487|9780061120080|          Harper Lee|                     1960|To Kill a Mocking...|          4.25|      3198671|         3340896.0|                  72586|https://images.gr...|\n",
      "|  5|    4671|        4671|       1356|9780743273560| F. Scott Fitzgerald|                     1925|    The Great Gatsby|          3.89|      2683664|         2773745.0|                  51992|https://images.gr...|\n",
      "|  6|11870085|    11870085|        226|9780525478810|          John Green|                     2012|The Fault in Our ...|          4.26|      2346404|         2478609.0|                 140739|https://images.gr...|\n",
      "|  7|    5907|        5907|        969|9780618260300|      J.R.R. Tolkien|                     1937|The Hobbit or The...|          4.25|      2071616|         2196809.0|                  37653|https://images.gr...|\n",
      "|  8|    5107|        5107|        360|9780316769170|       J.D. Salinger|                     1951|The Catcher in th...|          3.79|      2044241|         2120637.0|                  44920|https://images.gr...|\n",
      "|  9|     960|         960|        311|9781416524790|           Dan Brown|                     2000|    Angels & Demons |          3.85|      2001311|         2078754.0|                  25112|https://images.gr...|\n",
      "| 10|    1885|        1885|       3455|9780679783270|         Jane Austen|                     1813| Pride and Prejudice|          4.24|      2035490|         2191465.0|                  49152|https://images.gr...|\n",
      "| 11|   77203|       77203|        283|9781594480000|     Khaled Hosseini|                     2003|    The Kite Runner |          4.26|      1813044|         1878095.0|                  59730|https://images.gr...|\n",
      "| 12|13335037|    13335037|        210|9780062024040|       Veronica Roth|                     2011|           Divergent|          4.24|      1903563|         2216814.0|                 101023|https://images.gr...|\n",
      "| 13|    5470|        5470|        995|9780451524940|George Orwell, Er...|                     1949|Nineteen Eighty-Four|          4.14|      1956832|         2053394.0|                  45518|https://images.gr...|\n",
      "| 14|    7613|        7613|        896|9780452284240|       George Orwell|                     1945|Animal Farm: A Fa...|          3.87|      1881700|         1982987.0|                  35472|https://images.gr...|\n",
      "| 15|   48855|       48855|        710|9780553296980|Anne Frank, Elean...|                     1947|Het Achterhuis: D...|           4.1|      1972666|         2024493.0|                  20825|https://images.gr...|\n",
      "| 16| 2429135|     2429135|        274|9780307269750|Stieg Larsson, Re...|                     2005|Män som hatar kvi...|          4.11|      1808403|         1929834.0|                  62543|https://images.gr...|\n",
      "| 17| 6148028|     6148028|        201|9780439023500|     Suzanne Collins|                     2009|       Catching Fire|           4.3|      1831039|         1988079.0|                  88538|https://images.gr...|\n",
      "| 18|       5|           5|        376|9780439655480|J.K. Rowling, Mar...|                     1999|Harry Potter and ...|          4.53|      1832823|         1969375.0|                  36099|https://images.gr...|\n",
      "| 19|      34|          34|        566|9780618346260|      J.R.R. Tolkien|                     1954| The Fellowship o...|          4.34|      1766803|         1832541.0|                  15333|https://images.gr...|\n",
      "| 20| 7260188|     7260188|        239|9780439023510|     Suzanne Collins|                     2010|          Mockingjay|          4.03|      1719760|         1870748.0|                  96274|https://images.gr...|\n",
      "+---+--------+------------+-----------+-------------+--------------------+-------------------------+--------------------+--------------+-------------+------------------+-----------------------+--------------------+\n",
      "only showing top 20 rows\n",
      "\n"
     ]
    }
   ],
   "source": [
    "#import books data\n",
    "books_df_file_location = \"dataset\\\\cleaned_data_books_version_3.csv\"\n",
    "file_type = \"csv\"\n",
    "\n",
    "# CSV options\n",
    "infer_schema = \"True\"\n",
    "first_row_is_header = \"True\"\n",
    "delimiter = \",\"\n",
    "\n",
    "# The applied options are for CSV files. For other file types, these will be ignored.\n",
    "books = spark.read.format(file_type) \\\n",
    "  .option(\"inferSchema\", infer_schema) \\\n",
    "  .option(\"header\", first_row_is_header) \\\n",
    "  .option(\"sto_readep\", delimiter) \\\n",
    "  .load(books_df_file_location)\n",
    "\n",
    "books.show()\n",
    "\n",
    "# Create Temporary Tables\n",
    "books.createOrReplaceTempView(\"books\")"
   ]
  },
  {
   "cell_type": "code",
   "execution_count": 3,
   "metadata": {},
   "outputs": [
    {
     "name": "stdout",
     "output_type": "stream",
     "text": [
      "+-------+-------+\n",
      "|user_id|book_id|\n",
      "+-------+-------+\n",
      "|      1|    112|\n",
      "|      1|    235|\n",
      "|      1|    533|\n",
      "|      1|   1198|\n",
      "|      1|   1874|\n",
      "|      1|   2058|\n",
      "|      1|   3334|\n",
      "|      2|      4|\n",
      "|      2|     11|\n",
      "|      2|     13|\n",
      "|      2|     16|\n",
      "|      2|     92|\n",
      "|      2|    106|\n",
      "|      2|    113|\n",
      "|      2|    233|\n",
      "|      2|    247|\n",
      "|      2|    380|\n",
      "|      2|    408|\n",
      "|      2|    439|\n",
      "|      2|    479|\n",
      "+-------+-------+\n",
      "only showing top 20 rows\n",
      "\n"
     ]
    }
   ],
   "source": [
    "#import to_read data\n",
    "to_read_df_file_location = \"dataset\\\\to_read.csv\"\n",
    "file_type = \"csv\"\n",
    "\n",
    "# CSV options\n",
    "infer_schema = \"True\"\n",
    "first_row_is_header = \"True\"\n",
    "delimiter = \",\"\n",
    "\n",
    "# The applied options are for CSV files. For other file types, these will be ignored.\n",
    "to_read = spark.read.format(file_type) \\\n",
    "  .option(\"inferSchema\", infer_schema) \\\n",
    "  .option(\"header\", first_row_is_header) \\\n",
    "  .option(\"sep\", delimiter) \\\n",
    "  .load(to_read_df_file_location)\n",
    "\n",
    "to_read.show()\n",
    "\n",
    "# Create Temporary Tables\n",
    "to_read.createOrReplaceTempView(\"to_read\")"
   ]
  },
  {
   "cell_type": "code",
   "execution_count": 4,
   "metadata": {},
   "outputs": [
    {
     "name": "stdout",
     "output_type": "stream",
     "text": [
      "+-------+-------+------+\n",
      "|book_id|user_id|rating|\n",
      "+-------+-------+------+\n",
      "|      1|    314|     5|\n",
      "|      1|    439|     3|\n",
      "|      1|    588|     5|\n",
      "|      1|   1169|     4|\n",
      "|      1|   1185|     4|\n",
      "|      1|   2077|     4|\n",
      "|      1|   2487|     4|\n",
      "|      1|   2900|     5|\n",
      "|      1|   3662|     4|\n",
      "|      1|   3922|     5|\n",
      "|      1|   5379|     5|\n",
      "|      1|   5461|     3|\n",
      "|      1|   5885|     5|\n",
      "|      1|   6630|     5|\n",
      "|      1|   7563|     3|\n",
      "|      1|   9246|     1|\n",
      "|      1|  10140|     4|\n",
      "|      1|  10146|     5|\n",
      "|      1|  10246|     4|\n",
      "|      1|  10335|     4|\n",
      "+-------+-------+------+\n",
      "only showing top 20 rows\n",
      "\n"
     ]
    }
   ],
   "source": [
    "#import ratings data\n",
    "ratings_df_file_location = \"dataset\\\\ratings.csv\"\n",
    "file_type = \"csv\"\n",
    "\n",
    "# CSV options\n",
    "infer_schema = \"True\"\n",
    "first_row_is_header = \"True\"\n",
    "delimiter = \",\"\n",
    "\n",
    "# The applied options are for CSV files. For other file types, these will be ignored.\n",
    "ratings = spark.read.format(file_type) \\\n",
    "  .option(\"inferSchema\", infer_schema) \\\n",
    "  .option(\"header\", first_row_is_header) \\\n",
    "  .option(\"sep\", delimiter) \\\n",
    "  .load(ratings_df_file_location)\n",
    "\n",
    "ratings.show()\n",
    "\n",
    "# Create Temporary Tables\n",
    "ratings.createOrReplaceTempView(\"ratings\")"
   ]
  },
  {
   "cell_type": "markdown",
   "metadata": {},
   "source": [
    "Alle nodige data voor het model is ingeladen in Spark, maar om toch nog even te kijken naar bepaalde statistieken, importeer ik het ook naar een Pandas DataFrame."
   ]
  },
  {
   "cell_type": "code",
   "execution_count": 5,
   "metadata": {},
   "outputs": [],
   "source": [
    "books_df =  pd.read_csv(\"dataset\\\\cleaned_data_books_version_3.csv\")\n",
    "to_read_df = pd.read_csv(\"dataset\\\\to_read.csv\")\n",
    "ratings_df = pd.read_csv(\"dataset\\\\ratings.csv\")"
   ]
  },
  {
   "cell_type": "code",
   "execution_count": 6,
   "metadata": {},
   "outputs": [
    {
     "data": {
      "text/html": [
       "<div>\n",
       "<style scoped>\n",
       "    .dataframe tbody tr th:only-of-type {\n",
       "        vertical-align: middle;\n",
       "    }\n",
       "\n",
       "    .dataframe tbody tr th {\n",
       "        vertical-align: top;\n",
       "    }\n",
       "\n",
       "    .dataframe thead th {\n",
       "        text-align: right;\n",
       "    }\n",
       "</style>\n",
       "<table border=\"1\" class=\"dataframe\">\n",
       "  <thead>\n",
       "    <tr style=\"text-align: right;\">\n",
       "      <th></th>\n",
       "      <th>original_title</th>\n",
       "      <th>ratings_count</th>\n",
       "      <th>average_rating</th>\n",
       "    </tr>\n",
       "  </thead>\n",
       "  <tbody>\n",
       "    <tr>\n",
       "      <th>0</th>\n",
       "      <td>The Hunger Games</td>\n",
       "      <td>4780653</td>\n",
       "      <td>4.34</td>\n",
       "    </tr>\n",
       "    <tr>\n",
       "      <th>1</th>\n",
       "      <td>Harry Potter and the Philosopher's Stone</td>\n",
       "      <td>4602479</td>\n",
       "      <td>4.44</td>\n",
       "    </tr>\n",
       "    <tr>\n",
       "      <th>2</th>\n",
       "      <td>Twilight</td>\n",
       "      <td>3866839</td>\n",
       "      <td>3.57</td>\n",
       "    </tr>\n",
       "    <tr>\n",
       "      <th>3</th>\n",
       "      <td>To Kill a Mockingbird</td>\n",
       "      <td>3198671</td>\n",
       "      <td>4.25</td>\n",
       "    </tr>\n",
       "    <tr>\n",
       "      <th>4</th>\n",
       "      <td>The Great Gatsby</td>\n",
       "      <td>2683664</td>\n",
       "      <td>3.89</td>\n",
       "    </tr>\n",
       "    <tr>\n",
       "      <th>5</th>\n",
       "      <td>The Fault in Our Stars</td>\n",
       "      <td>2346404</td>\n",
       "      <td>4.26</td>\n",
       "    </tr>\n",
       "    <tr>\n",
       "      <th>6</th>\n",
       "      <td>The Hobbit or There and Back Again</td>\n",
       "      <td>2071616</td>\n",
       "      <td>4.25</td>\n",
       "    </tr>\n",
       "    <tr>\n",
       "      <th>7</th>\n",
       "      <td>The Catcher in the Rye</td>\n",
       "      <td>2044241</td>\n",
       "      <td>3.79</td>\n",
       "    </tr>\n",
       "    <tr>\n",
       "      <th>9</th>\n",
       "      <td>Pride and Prejudice</td>\n",
       "      <td>2035490</td>\n",
       "      <td>4.24</td>\n",
       "    </tr>\n",
       "    <tr>\n",
       "      <th>8</th>\n",
       "      <td>Angels &amp; Demons</td>\n",
       "      <td>2001311</td>\n",
       "      <td>3.85</td>\n",
       "    </tr>\n",
       "  </tbody>\n",
       "</table>\n",
       "</div>"
      ],
      "text/plain": [
       "                             original_title  ratings_count  average_rating\n",
       "0                          The Hunger Games        4780653            4.34\n",
       "1  Harry Potter and the Philosopher's Stone        4602479            4.44\n",
       "2                                  Twilight        3866839            3.57\n",
       "3                     To Kill a Mockingbird        3198671            4.25\n",
       "4                          The Great Gatsby        2683664            3.89\n",
       "5                    The Fault in Our Stars        2346404            4.26\n",
       "6        The Hobbit or There and Back Again        2071616            4.25\n",
       "7                    The Catcher in the Rye        2044241            3.79\n",
       "9                       Pride and Prejudice        2035490            4.24\n",
       "8                          Angels & Demons         2001311            3.85"
      ]
     },
     "execution_count": 6,
     "metadata": {},
     "output_type": "execute_result"
    }
   ],
   "source": [
    "#Top books with most number of ratings on goodbooks\n",
    "\n",
    "books_df.sort_values(by = 'ratings_count', ascending = False)[['original_title','ratings_count', 'average_rating' ]][0:10]"
   ]
  },
  {
   "cell_type": "code",
   "execution_count": 7,
   "metadata": {},
   "outputs": [
    {
     "data": {
      "text/html": [
       "<div>\n",
       "<style scoped>\n",
       "    .dataframe tbody tr th:only-of-type {\n",
       "        vertical-align: middle;\n",
       "    }\n",
       "\n",
       "    .dataframe tbody tr th {\n",
       "        vertical-align: top;\n",
       "    }\n",
       "\n",
       "    .dataframe thead th {\n",
       "        text-align: right;\n",
       "    }\n",
       "</style>\n",
       "<table border=\"1\" class=\"dataframe\">\n",
       "  <thead>\n",
       "    <tr style=\"text-align: right;\">\n",
       "      <th></th>\n",
       "      <th>original_title</th>\n",
       "      <th>ratings_count</th>\n",
       "      <th>average_rating</th>\n",
       "    </tr>\n",
       "  </thead>\n",
       "  <tbody>\n",
       "    <tr>\n",
       "      <th>3362</th>\n",
       "      <td>The Complete Calvin and Hobbes</td>\n",
       "      <td>28900</td>\n",
       "      <td>4.82</td>\n",
       "    </tr>\n",
       "    <tr>\n",
       "      <th>825</th>\n",
       "      <td>Words of Radiance</td>\n",
       "      <td>73572</td>\n",
       "      <td>4.77</td>\n",
       "    </tr>\n",
       "    <tr>\n",
       "      <th>7887</th>\n",
       "      <td>Mark of the Lion Trilogy</td>\n",
       "      <td>9081</td>\n",
       "      <td>4.76</td>\n",
       "    </tr>\n",
       "    <tr>\n",
       "      <th>4128</th>\n",
       "      <td>It's a Magical World: A Calvin and Hobbes Coll...</td>\n",
       "      <td>22351</td>\n",
       "      <td>4.75</td>\n",
       "    </tr>\n",
       "    <tr>\n",
       "      <th>404</th>\n",
       "      <td>Complete Harry Potter Boxed Set</td>\n",
       "      <td>190050</td>\n",
       "      <td>4.74</td>\n",
       "    </tr>\n",
       "    <tr>\n",
       "      <th>5785</th>\n",
       "      <td>There's Treasure Everywhere: A Calvin and Hobb...</td>\n",
       "      <td>16766</td>\n",
       "      <td>4.74</td>\n",
       "    </tr>\n",
       "    <tr>\n",
       "      <th>3474</th>\n",
       "      <td>Harry Potter Collection (Harry Potter, #1-6)</td>\n",
       "      <td>24618</td>\n",
       "      <td>4.73</td>\n",
       "    </tr>\n",
       "    <tr>\n",
       "      <th>5981</th>\n",
       "      <td>The Authoritative Calvin and Hobbes</td>\n",
       "      <td>16087</td>\n",
       "      <td>4.73</td>\n",
       "    </tr>\n",
       "    <tr>\n",
       "      <th>6272</th>\n",
       "      <td>The Indispensable Calvin and Hobbes: A Calvin ...</td>\n",
       "      <td>14597</td>\n",
       "      <td>4.73</td>\n",
       "    </tr>\n",
       "    <tr>\n",
       "      <th>8473</th>\n",
       "      <td>Attack of the Deranged Mutant Killer Monster S...</td>\n",
       "      <td>9713</td>\n",
       "      <td>4.72</td>\n",
       "    </tr>\n",
       "  </tbody>\n",
       "</table>\n",
       "</div>"
      ],
      "text/plain": [
       "                                         original_title  ratings_count  \\\n",
       "3362                     The Complete Calvin and Hobbes          28900   \n",
       "825                                   Words of Radiance          73572   \n",
       "7887                           Mark of the Lion Trilogy           9081   \n",
       "4128  It's a Magical World: A Calvin and Hobbes Coll...          22351   \n",
       "404                     Complete Harry Potter Boxed Set         190050   \n",
       "5785  There's Treasure Everywhere: A Calvin and Hobb...          16766   \n",
       "3474       Harry Potter Collection (Harry Potter, #1-6)          24618   \n",
       "5981                The Authoritative Calvin and Hobbes          16087   \n",
       "6272  The Indispensable Calvin and Hobbes: A Calvin ...          14597   \n",
       "8473  Attack of the Deranged Mutant Killer Monster S...           9713   \n",
       "\n",
       "      average_rating  \n",
       "3362            4.82  \n",
       "825             4.77  \n",
       "7887            4.76  \n",
       "4128            4.75  \n",
       "404             4.74  \n",
       "5785            4.74  \n",
       "3474            4.73  \n",
       "5981            4.73  \n",
       "6272            4.73  \n",
       "8473            4.72  "
      ]
     },
     "execution_count": 7,
     "metadata": {},
     "output_type": "execute_result"
    }
   ],
   "source": [
    "books_df.average_rating = books_df.average_rating.astype('float')\n",
    "\n",
    "#Top books with top average ratings on goodbooks\n",
    "\n",
    "books_df.sort_values(by = 'average_rating', ascending = False)[['original_title','ratings_count', 'average_rating' ]][0:10]"
   ]
  },
  {
   "cell_type": "code",
   "execution_count": 8,
   "metadata": {},
   "outputs": [
    {
     "data": {
      "text/html": [
       "<div>\n",
       "<style scoped>\n",
       "    .dataframe tbody tr th:only-of-type {\n",
       "        vertical-align: middle;\n",
       "    }\n",
       "\n",
       "    .dataframe tbody tr th {\n",
       "        vertical-align: top;\n",
       "    }\n",
       "\n",
       "    .dataframe thead th {\n",
       "        text-align: right;\n",
       "    }\n",
       "</style>\n",
       "<table border=\"1\" class=\"dataframe\">\n",
       "  <thead>\n",
       "    <tr style=\"text-align: right;\">\n",
       "      <th></th>\n",
       "      <th>author</th>\n",
       "      <th>number_of_books</th>\n",
       "    </tr>\n",
       "  </thead>\n",
       "  <tbody>\n",
       "    <tr>\n",
       "      <th>0</th>\n",
       "      <td>Nora Roberts</td>\n",
       "      <td>59</td>\n",
       "    </tr>\n",
       "    <tr>\n",
       "      <th>1</th>\n",
       "      <td>Stephen King</td>\n",
       "      <td>57</td>\n",
       "    </tr>\n",
       "    <tr>\n",
       "      <th>2</th>\n",
       "      <td>Dean Koontz</td>\n",
       "      <td>43</td>\n",
       "    </tr>\n",
       "    <tr>\n",
       "      <th>3</th>\n",
       "      <td>Terry Pratchett</td>\n",
       "      <td>41</td>\n",
       "    </tr>\n",
       "    <tr>\n",
       "      <th>4</th>\n",
       "      <td>Agatha Christie</td>\n",
       "      <td>38</td>\n",
       "    </tr>\n",
       "    <tr>\n",
       "      <th>5</th>\n",
       "      <td>Meg Cabot</td>\n",
       "      <td>37</td>\n",
       "    </tr>\n",
       "    <tr>\n",
       "      <th>6</th>\n",
       "      <td>James Patterson</td>\n",
       "      <td>36</td>\n",
       "    </tr>\n",
       "    <tr>\n",
       "      <th>7</th>\n",
       "      <td>J.D. Robb</td>\n",
       "      <td>33</td>\n",
       "    </tr>\n",
       "    <tr>\n",
       "      <th>8</th>\n",
       "      <td>David Baldacci</td>\n",
       "      <td>32</td>\n",
       "    </tr>\n",
       "    <tr>\n",
       "      <th>9</th>\n",
       "      <td>John Grisham</td>\n",
       "      <td>31</td>\n",
       "    </tr>\n",
       "  </tbody>\n",
       "</table>\n",
       "</div>"
      ],
      "text/plain": [
       "            author  number_of_books\n",
       "0     Nora Roberts               59\n",
       "1     Stephen King               57\n",
       "2      Dean Koontz               43\n",
       "3  Terry Pratchett               41\n",
       "4  Agatha Christie               38\n",
       "5        Meg Cabot               37\n",
       "6  James Patterson               36\n",
       "7        J.D. Robb               33\n",
       "8   David Baldacci               32\n",
       "9     John Grisham               31"
      ]
     },
     "execution_count": 8,
     "metadata": {},
     "output_type": "execute_result"
    }
   ],
   "source": [
    "#author with most written books\n",
    "authors_with_most_books = pd.DataFrame(books_df.authors.value_counts()[0:10]).reset_index()\n",
    "authors_with_most_books.columns = ['author', 'number_of_books']\n",
    "\n",
    "authors_with_most_books\n",
    "\n",
    "#damn, Nora Roberts has written more books than Stephen King, and I have never heard of her"
   ]
  },
  {
   "cell_type": "code",
   "execution_count": 9,
   "metadata": {},
   "outputs": [
    {
     "data": {
      "image/png": "[encoded data removed]",
      "text/plain": [
       "<Figure size 864x432 with 1 Axes>"
      ]
     },
     "metadata": {
      "needs_background": "light"
     },
     "output_type": "display_data"
    }
   ],
   "source": [
    "plt.figure(figsize=(12,6))\n",
    "plt.title('Distribution of Average Ratings')\n",
    "books_df['average_rating'].hist()\n",
    "display()"
   ]
  },
  {
   "cell_type": "code",
   "execution_count": 10,
   "metadata": {},
   "outputs": [
    {
     "data": {
      "text/html": [
       "<div>\n",
       "<style scoped>\n",
       "    .dataframe tbody tr th:only-of-type {\n",
       "        vertical-align: middle;\n",
       "    }\n",
       "\n",
       "    .dataframe tbody tr th {\n",
       "        vertical-align: top;\n",
       "    }\n",
       "\n",
       "    .dataframe thead th {\n",
       "        text-align: right;\n",
       "    }\n",
       "</style>\n",
       "<table border=\"1\" class=\"dataframe\">\n",
       "  <thead>\n",
       "    <tr style=\"text-align: right;\">\n",
       "      <th></th>\n",
       "      <th>book_id</th>\n",
       "      <th>user_id</th>\n",
       "      <th>rating</th>\n",
       "    </tr>\n",
       "  </thead>\n",
       "  <tbody>\n",
       "    <tr>\n",
       "      <th>0</th>\n",
       "      <td>1</td>\n",
       "      <td>314</td>\n",
       "      <td>5</td>\n",
       "    </tr>\n",
       "    <tr>\n",
       "      <th>1</th>\n",
       "      <td>1</td>\n",
       "      <td>439</td>\n",
       "      <td>3</td>\n",
       "    </tr>\n",
       "    <tr>\n",
       "      <th>2</th>\n",
       "      <td>1</td>\n",
       "      <td>588</td>\n",
       "      <td>5</td>\n",
       "    </tr>\n",
       "    <tr>\n",
       "      <th>3</th>\n",
       "      <td>1</td>\n",
       "      <td>1169</td>\n",
       "      <td>4</td>\n",
       "    </tr>\n",
       "    <tr>\n",
       "      <th>4</th>\n",
       "      <td>1</td>\n",
       "      <td>1185</td>\n",
       "      <td>4</td>\n",
       "    </tr>\n",
       "  </tbody>\n",
       "</table>\n",
       "</div>"
      ],
      "text/plain": [
       "   book_id  user_id  rating\n",
       "0        1      314       5\n",
       "1        1      439       3\n",
       "2        1      588       5\n",
       "3        1     1169       4\n",
       "4        1     1185       4"
      ]
     },
     "execution_count": 10,
     "metadata": {},
     "output_type": "execute_result"
    }
   ],
   "source": [
    "ratings_df.head()"
   ]
  },
  {
   "cell_type": "code",
   "execution_count": 11,
   "metadata": {},
   "outputs": [
    {
     "data": {
      "text/html": [
       "<div>\n",
       "<style scoped>\n",
       "    .dataframe tbody tr th:only-of-type {\n",
       "        vertical-align: middle;\n",
       "    }\n",
       "\n",
       "    .dataframe tbody tr th {\n",
       "        vertical-align: top;\n",
       "    }\n",
       "\n",
       "    .dataframe thead th {\n",
       "        text-align: right;\n",
       "    }\n",
       "</style>\n",
       "<table border=\"1\" class=\"dataframe\">\n",
       "  <thead>\n",
       "    <tr style=\"text-align: right;\">\n",
       "      <th></th>\n",
       "      <th>book_id</th>\n",
       "      <th>user_id</th>\n",
       "      <th>rating</th>\n",
       "    </tr>\n",
       "  </thead>\n",
       "  <tbody>\n",
       "    <tr>\n",
       "      <th>count</th>\n",
       "      <td>981756.000000</td>\n",
       "      <td>981756.000000</td>\n",
       "      <td>981756.000000</td>\n",
       "    </tr>\n",
       "    <tr>\n",
       "      <th>mean</th>\n",
       "      <td>4943.275636</td>\n",
       "      <td>25616.759933</td>\n",
       "      <td>3.856534</td>\n",
       "    </tr>\n",
       "    <tr>\n",
       "      <th>std</th>\n",
       "      <td>2873.207415</td>\n",
       "      <td>15228.338826</td>\n",
       "      <td>0.983941</td>\n",
       "    </tr>\n",
       "    <tr>\n",
       "      <th>min</th>\n",
       "      <td>1.000000</td>\n",
       "      <td>1.000000</td>\n",
       "      <td>1.000000</td>\n",
       "    </tr>\n",
       "    <tr>\n",
       "      <th>25%</th>\n",
       "      <td>2457.000000</td>\n",
       "      <td>12372.000000</td>\n",
       "      <td>3.000000</td>\n",
       "    </tr>\n",
       "    <tr>\n",
       "      <th>50%</th>\n",
       "      <td>4921.000000</td>\n",
       "      <td>25077.000000</td>\n",
       "      <td>4.000000</td>\n",
       "    </tr>\n",
       "    <tr>\n",
       "      <th>75%</th>\n",
       "      <td>7414.000000</td>\n",
       "      <td>38572.000000</td>\n",
       "      <td>5.000000</td>\n",
       "    </tr>\n",
       "    <tr>\n",
       "      <th>max</th>\n",
       "      <td>10000.000000</td>\n",
       "      <td>53424.000000</td>\n",
       "      <td>5.000000</td>\n",
       "    </tr>\n",
       "  </tbody>\n",
       "</table>\n",
       "</div>"
      ],
      "text/plain": [
       "             book_id        user_id         rating\n",
       "count  981756.000000  981756.000000  981756.000000\n",
       "mean     4943.275636   25616.759933       3.856534\n",
       "std      2873.207415   15228.338826       0.983941\n",
       "min         1.000000       1.000000       1.000000\n",
       "25%      2457.000000   12372.000000       3.000000\n",
       "50%      4921.000000   25077.000000       4.000000\n",
       "75%      7414.000000   38572.000000       5.000000\n",
       "max     10000.000000   53424.000000       5.000000"
      ]
     },
     "execution_count": 11,
     "metadata": {},
     "output_type": "execute_result"
    }
   ],
   "source": [
    "ratings_df.describe()\n",
    "#almost 1 million ratings"
   ]
  },
  {
   "cell_type": "code",
   "execution_count": 12,
   "metadata": {},
   "outputs": [
    {
     "data": {
      "text/html": [
       "<div>\n",
       "<style scoped>\n",
       "    .dataframe tbody tr th:only-of-type {\n",
       "        vertical-align: middle;\n",
       "    }\n",
       "\n",
       "    .dataframe tbody tr th {\n",
       "        vertical-align: top;\n",
       "    }\n",
       "\n",
       "    .dataframe thead th {\n",
       "        text-align: right;\n",
       "    }\n",
       "</style>\n",
       "<table border=\"1\" class=\"dataframe\">\n",
       "  <thead>\n",
       "    <tr style=\"text-align: right;\">\n",
       "      <th></th>\n",
       "      <th>user_id</th>\n",
       "      <th>rating</th>\n",
       "    </tr>\n",
       "    <tr>\n",
       "      <th>book_id</th>\n",
       "      <th></th>\n",
       "      <th></th>\n",
       "    </tr>\n",
       "  </thead>\n",
       "  <tbody>\n",
       "    <tr>\n",
       "      <th>1</th>\n",
       "      <td>100</td>\n",
       "      <td>100</td>\n",
       "    </tr>\n",
       "    <tr>\n",
       "      <th>2</th>\n",
       "      <td>100</td>\n",
       "      <td>100</td>\n",
       "    </tr>\n",
       "    <tr>\n",
       "      <th>3</th>\n",
       "      <td>100</td>\n",
       "      <td>100</td>\n",
       "    </tr>\n",
       "    <tr>\n",
       "      <th>4</th>\n",
       "      <td>100</td>\n",
       "      <td>100</td>\n",
       "    </tr>\n",
       "    <tr>\n",
       "      <th>5</th>\n",
       "      <td>100</td>\n",
       "      <td>100</td>\n",
       "    </tr>\n",
       "    <tr>\n",
       "      <th>...</th>\n",
       "      <td>...</td>\n",
       "      <td>...</td>\n",
       "    </tr>\n",
       "    <tr>\n",
       "      <th>9996</th>\n",
       "      <td>98</td>\n",
       "      <td>98</td>\n",
       "    </tr>\n",
       "    <tr>\n",
       "      <th>9997</th>\n",
       "      <td>89</td>\n",
       "      <td>89</td>\n",
       "    </tr>\n",
       "    <tr>\n",
       "      <th>9998</th>\n",
       "      <td>95</td>\n",
       "      <td>95</td>\n",
       "    </tr>\n",
       "    <tr>\n",
       "      <th>9999</th>\n",
       "      <td>99</td>\n",
       "      <td>99</td>\n",
       "    </tr>\n",
       "    <tr>\n",
       "      <th>10000</th>\n",
       "      <td>96</td>\n",
       "      <td>96</td>\n",
       "    </tr>\n",
       "  </tbody>\n",
       "</table>\n",
       "<p>10000 rows × 2 columns</p>\n",
       "</div>"
      ],
      "text/plain": [
       "         user_id  rating\n",
       "book_id                 \n",
       "1            100     100\n",
       "2            100     100\n",
       "3            100     100\n",
       "4            100     100\n",
       "5            100     100\n",
       "...          ...     ...\n",
       "9996          98      98\n",
       "9997          89      89\n",
       "9998          95      95\n",
       "9999          99      99\n",
       "10000         96      96\n",
       "\n",
       "[10000 rows x 2 columns]"
      ]
     },
     "execution_count": 12,
     "metadata": {},
     "output_type": "execute_result"
    }
   ],
   "source": [
    "#almost each book has 100 ratings in the ratingss dataframe\n",
    "\n",
    "ratings_df.groupby('book_id').count()"
   ]
  },
  {
   "cell_type": "code",
   "execution_count": 13,
   "metadata": {},
   "outputs": [
    {
     "name": "stdout",
     "output_type": "stream",
     "text": [
      "The ratings dataframe is  99.82% empty.\n"
     ]
    }
   ],
   "source": [
    "# Count the total number of ratings in the dataset\n",
    "numerator = ratings.select(\"rating\").count()\n",
    "\n",
    "# Count the number of distinct Id's\n",
    "num_users = ratings.select(\"user_id\").distinct().count()\n",
    "num_items = ratings.select(\"book_id\").distinct().count()\n",
    "\n",
    "# Set the denominator equal to the number of users multiplied by the number of items\n",
    "denominator = num_users * num_items\n",
    "\n",
    "# Divide the numerator by the denominator\n",
    "sparsity = (1.0 - (numerator * 1.0)/ denominator) * 100\n",
    "print(\"The ratings dataframe is \", \"%.2f\" % sparsity + \"% empty.\")"
   ]
  },
  {
   "cell_type": "markdown",
   "metadata": {},
   "source": [
    "Now, seeing as the dataframe is 99.82% empty, I can explain that. It simply cannot be possible for every unique user to have rated all the books in the dataframe.Therefore, it's better to build an algorithm only on the basis of the original ratings. Here's where ALS comes into play. But first, some extra information."
   ]
  },
  {
   "cell_type": "code",
   "execution_count": 14,
   "metadata": {},
   "outputs": [
    {
     "name": "stdout",
     "output_type": "stream",
     "text": [
      "Item with the fewest ratings: \n",
      "+-------+-----+\n",
      "|book_id|count|\n",
      "+-------+-----+\n",
      "|   7803|    8|\n",
      "|   9345|   11|\n",
      "|   9486|   24|\n",
      "|   1935|   34|\n",
      "|   9315|   36|\n",
      "|   9553|   41|\n",
      "|   8181|   44|\n",
      "|   9260|   46|\n",
      "|   9479|   47|\n",
      "|   9705|   48|\n",
      "+-------+-----+\n",
      "only showing top 10 rows\n",
      "\n"
     ]
    }
   ],
   "source": [
    "# Min num ratings \n",
    "print(\"Item with the fewest ratings: \")\n",
    "ratings.groupBy(\"book_id\").count().sort('count').show(10)"
   ]
  },
  {
   "cell_type": "code",
   "execution_count": 15,
   "metadata": {},
   "outputs": [
    {
     "name": "stdout",
     "output_type": "stream",
     "text": [
      "+-------+-----+\n",
      "|user_id|count|\n",
      "+-------+-----+\n",
      "|  12874|  200|\n",
      "|  30944|  200|\n",
      "|  12381|  199|\n",
      "|  28158|  199|\n",
      "|  52036|  199|\n",
      "|   6630|  197|\n",
      "|  37834|  197|\n",
      "|  45554|  197|\n",
      "|   9806|  196|\n",
      "|  19729|  196|\n",
      "+-------+-----+\n",
      "only showing top 10 rows\n",
      "\n"
     ]
    }
   ],
   "source": [
    "# Group data by user_id, count ratings\n",
    "(ratings.groupBy(\"user_id\")\n",
    "    .count()\n",
    "    .filter(\"`count` >= 5\")\n",
    "    .orderBy('count', ascending=False)\n",
    "    .show(n = 10))"
   ]
  },
  {
   "cell_type": "code",
   "execution_count": 16,
   "metadata": {},
   "outputs": [
    {
     "name": "stdout",
     "output_type": "stream",
     "text": [
      "+-------+-----+\n",
      "|book_id|count|\n",
      "+-------+-----+\n",
      "|     31|  100|\n",
      "|    516|  100|\n",
      "|   1139|  100|\n",
      "|   1143|  100|\n",
      "|   1270|  100|\n",
      "|   1303|  100|\n",
      "|   1322|  100|\n",
      "|   1339|  100|\n",
      "|   1352|  100|\n",
      "|   1618|  100|\n",
      "+-------+-----+\n",
      "only showing top 10 rows\n",
      "\n"
     ]
    }
   ],
   "source": [
    "(ratings.groupBy(\"book_id\")\n",
    "    .count()\n",
    "    .filter(\"`count` > 1\")\n",
    "    .orderBy('count', ascending=False)\n",
    "    .show(n = 10))"
   ]
  },
  {
   "cell_type": "code",
   "execution_count": 17,
   "metadata": {},
   "outputs": [],
   "source": [
    "#now, we split the data into training and test sets to use for the ALS algorithm\n",
    "(training,test)=ratings.randomSplit([0.8, 0.2])"
   ]
  },
  {
   "cell_type": "code",
   "execution_count": 18,
   "metadata": {},
   "outputs": [
    {
     "name": "stdout",
     "output_type": "stream",
     "text": [
      "+-------+-------+------+\n",
      "|book_id|user_id|rating|\n",
      "+-------+-------+------+\n",
      "|      1|    588|     5|\n",
      "|      1|   2487|     4|\n",
      "|      1|   5885|     5|\n",
      "|      1|   9246|     1|\n",
      "|      1|  10140|     4|\n",
      "+-------+-------+------+\n",
      "only showing top 5 rows\n",
      "\n"
     ]
    }
   ],
   "source": [
    "test.show(5)"
   ]
  },
  {
   "cell_type": "code",
   "execution_count": 19,
   "metadata": {},
   "outputs": [],
   "source": [
    "#here, ALS and a regression evaluator is imported so we can find RMSE\n",
    "als=ALS(maxIter=5,regParam=0.09,rank=25,userCol=\"user_id\",itemCol=\"book_id\", ratingCol=\"rating\",coldStartStrategy=\"drop\",nonnegative=True, implicitPrefs = False)\n",
    "model=als.fit(training)"
   ]
  },
  {
   "cell_type": "code",
   "execution_count": 20,
   "metadata": {},
   "outputs": [],
   "source": [
    "param_grid = ParamGridBuilder() \\\n",
    "            .addGrid(als.rank, [10, 50, 75, 100]) \\\n",
    "            .addGrid(als.maxIter, [5, 50, 75, 100]) \\\n",
    "            .addGrid(als.regParam, [.01, .05, .1, .15]) \\\n",
    "            .build()"
   ]
  },
  {
   "cell_type": "code",
   "execution_count": 21,
   "metadata": {},
   "outputs": [
    {
     "name": "stdout",
     "output_type": "stream",
     "text": [
      "Num models to be tested using param_grid:  64\n"
     ]
    }
   ],
   "source": [
    "# Define evaluator as RMSE\n",
    "evaluator = RegressionEvaluator(metricName = \"rmse\", \n",
    "                                labelCol = \"rating\", \n",
    "                                predictionCol = \"prediction\")\n",
    "# Print length of evaluator\n",
    "print (\"Num models to be tested using param_grid: \", len(param_grid))"
   ]
  },
  {
   "cell_type": "code",
   "execution_count": 22,
   "metadata": {},
   "outputs": [],
   "source": [
    "# Build cross validation using CrossValidator\n",
    "cv = CrossValidator(estimator = als, \n",
    "                    estimatorParamMaps = param_grid, \n",
    "                    evaluator = evaluator, \n",
    "                    numFolds = 5)"
   ]
  },
  {
   "cell_type": "code",
   "execution_count": 23,
   "metadata": {},
   "outputs": [],
   "source": [
    "model = als.fit(training)"
   ]
  },
  {
   "cell_type": "code",
   "execution_count": 24,
   "metadata": {},
   "outputs": [],
   "source": [
    "predictions = model.transform(test)"
   ]
  },
  {
   "cell_type": "code",
   "execution_count": 25,
   "metadata": {},
   "outputs": [
    {
     "name": "stdout",
     "output_type": "stream",
     "text": [
      "+-------+-------+------+----------+\n",
      "|book_id|user_id|rating|prediction|\n",
      "+-------+-------+------+----------+\n",
      "|    148|   3087|     3| 3.5726216|\n",
      "|    148|  13034|     4| 3.4461586|\n",
      "|    148|  13879|     3|  3.371085|\n",
      "|    148|  10140|     3| 2.9592822|\n",
      "|    148|  20967|     3| 3.8144488|\n",
      "|    148|  26244|     4| 3.3857484|\n",
      "|    148|   9125|     1| 2.0415683|\n",
      "|    148|   2171|     4| 3.5932786|\n",
      "|    148|  11272|     3| 3.2192776|\n",
      "|    148|  51166|     4|  3.791177|\n",
      "+-------+-------+------+----------+\n",
      "only showing top 10 rows\n",
      "\n"
     ]
    }
   ],
   "source": [
    "predictions.show(n = 10)"
   ]
  },
  {
   "cell_type": "code",
   "execution_count": 26,
   "metadata": {},
   "outputs": [],
   "source": [
    "predictions.createOrReplaceTempView(\"predictions\")"
   ]
  },
  {
   "cell_type": "code",
   "execution_count": 27,
   "metadata": {},
   "outputs": [],
   "source": [
    "# Generate n recommendations for all users\n",
    "ALS_recommendations = model.recommendForAllUsers(numItems = 10) # n - 10"
   ]
  },
  {
   "cell_type": "code",
   "execution_count": 28,
   "metadata": {},
   "outputs": [
    {
     "name": "stdout",
     "output_type": "stream",
     "text": [
      "+-------+--------------------+\n",
      "|user_id|     recommendations|\n",
      "+-------+--------------------+\n",
      "|    148|[[7947, 5.0888543...|\n",
      "|    463|[[8946, 5.634342]...|\n",
      "|    471|[[8946, 3.2117507...|\n",
      "|    496|[[7947, 6.0149026...|\n",
      "|    833|[[9529, 5.678939]...|\n",
      "|   1088|[[7947, 5.0328407...|\n",
      "|   1238|[[9260, 4.2068143...|\n",
      "|   1342|[[9076, 5.2430983...|\n",
      "|   1580|[[7337, 5.30806],...|\n",
      "|   1591|[[9973, 4.950328]...|\n",
      "+-------+--------------------+\n",
      "only showing top 10 rows\n",
      "\n"
     ]
    }
   ],
   "source": [
    "ALS_recommendations.show(n = 10)"
   ]
  },
  {
   "cell_type": "code",
   "execution_count": 29,
   "metadata": {},
   "outputs": [],
   "source": [
    "# Temporary table\n",
    "ALS_recommendations.registerTempTable(\"ALS_recs_temp\")"
   ]
  },
  {
   "cell_type": "code",
   "execution_count": 30,
   "metadata": {},
   "outputs": [
    {
     "name": "stdout",
     "output_type": "stream",
     "text": [
      "+-------+-------+----------+\n",
      "|user_id|book_id|prediction|\n",
      "+-------+-------+----------+\n",
      "|    148|   7947| 5.0888543|\n",
      "|    148|   8946|  5.068738|\n",
      "|    148|   8013|  5.021634|\n",
      "|    148|   8854| 4.9729347|\n",
      "|    148|   8182| 4.8573627|\n",
      "|    148|   7844| 4.8211856|\n",
      "|    148|   9518| 4.7942834|\n",
      "|    148|   9529| 4.7346225|\n",
      "|    148|   1597|  4.713855|\n",
      "|    148|   9209| 4.7105503|\n",
      "|    463|   8946|  5.634342|\n",
      "|    463|   1935| 5.1030245|\n",
      "|    463|   5493| 5.0051136|\n",
      "|    463|   9028|  4.945355|\n",
      "|    463|   3104|  4.911579|\n",
      "|    463|   9518| 4.8730435|\n",
      "|    463|   6089|  4.825017|\n",
      "|    463|   8831| 4.8189425|\n",
      "|    463|   6312| 4.8025827|\n",
      "|    463|   5258| 4.7892976|\n",
      "+-------+-------+----------+\n",
      "only showing top 20 rows\n",
      "\n"
     ]
    }
   ],
   "source": [
    "clean_recs = spark.sql(\"\"\"SELECT user_id,\n",
    "                            movieIds_and_ratings.book_id AS book_id,\n",
    "                            movieIds_and_ratings.rating AS prediction\n",
    "                        FROM ALS_recs_temp\n",
    "                        LATERAL VIEW explode(recommendations) exploded_table\n",
    "                            AS movieIds_and_ratings\"\"\")\n",
    "clean_recs.show()"
   ]
  },
  {
   "cell_type": "code",
   "execution_count": 31,
   "metadata": {},
   "outputs": [
    {
     "name": "stdout",
     "output_type": "stream",
     "text": [
      "+-------+-------+----------+------+\n",
      "|user_id|book_id|prediction|rating|\n",
      "+-------+-------+----------+------+\n",
      "|      4|   9842| 5.3846364|  null|\n",
      "|     78|   6714| 2.4631793|  null|\n",
      "|    101|   8831|  5.438351|  null|\n",
      "|    102|   9842|  2.866275|  null|\n",
      "|    107|   7844| 4.0796404|  null|\n",
      "|    135|   8522| 4.3749366|  null|\n",
      "|    141|   8028|  4.619835|  null|\n",
      "|    145|   9051|  4.923432|  null|\n",
      "|    190|   9518| 5.1266055|  null|\n",
      "|    200|   7550|  4.083704|  null|\n",
      "|    217|   8013| 4.9587927|  null|\n",
      "|    277|   7881| 4.6523633|  null|\n",
      "|    309|   7063| 4.6414742|  null|\n",
      "|    329|   6149| 4.7050533|  null|\n",
      "|    338|   2667|  4.977938|  null|\n",
      "|    366|    126| 4.0352497|  null|\n",
      "|    382|   8926| 3.4802144|  null|\n",
      "|    387|   9529| 3.9604864|  null|\n",
      "|    436|   5268| 4.9204936|  null|\n",
      "|    441|   7844|  5.139341|  null|\n",
      "+-------+-------+----------+------+\n",
      "only showing top 20 rows\n",
      "\n"
     ]
    }
   ],
   "source": [
    "# Recommendations for unread books\n",
    "(clean_recs.join(ratings, [\"user_id\", \"book_id\"], \"left\")\n",
    "    .filter(ratings.rating.isNull()).show())"
   ]
  },
  {
   "cell_type": "code",
   "execution_count": 32,
   "metadata": {},
   "outputs": [],
   "source": [
    "new_books = (clean_recs.join(ratings, [\"user_id\", \"book_id\"], \"left\")\n",
    "    .filter(ratings.rating.isNull()))"
   ]
  },
  {
   "cell_type": "code",
   "execution_count": 33,
   "metadata": {},
   "outputs": [
    {
     "name": "stdout",
     "output_type": "stream",
     "text": [
      "+-------+-------+----------+------+\n",
      "|user_id|book_id|prediction|rating|\n",
      "+-------+-------+----------+------+\n",
      "|      4|   9842| 5.3846364|  null|\n",
      "|     78|   6714| 2.4631793|  null|\n",
      "|    101|   8831|  5.438351|  null|\n",
      "|    102|   9842|  2.866275|  null|\n",
      "|    107|   7844| 4.0796404|  null|\n",
      "|    135|   8522| 4.3749366|  null|\n",
      "|    141|   8028|  4.619835|  null|\n",
      "|    145|   9051|  4.923432|  null|\n",
      "|    190|   9518| 5.1266055|  null|\n",
      "|    200|   7550|  4.083704|  null|\n",
      "|    217|   8013| 4.9587927|  null|\n",
      "|    277|   7881| 4.6523633|  null|\n",
      "|    309|   7063| 4.6414742|  null|\n",
      "|    329|   6149| 4.7050533|  null|\n",
      "|    338|   2667|  4.977938|  null|\n",
      "|    366|    126| 4.0352497|  null|\n",
      "|    382|   8926| 3.4802144|  null|\n",
      "|    387|   9529| 3.9604864|  null|\n",
      "|    436|   5268| 4.9204936|  null|\n",
      "|    441|   7844|  5.139341|  null|\n",
      "+-------+-------+----------+------+\n",
      "only showing top 20 rows\n",
      "\n"
     ]
    }
   ],
   "source": [
    "new_books.show()"
   ]
  },
  {
   "cell_type": "code",
   "execution_count": 34,
   "metadata": {},
   "outputs": [
    {
     "name": "stdout",
     "output_type": "stream",
     "text": [
      "+-------+-------+\n",
      "|user_id|book_id|\n",
      "+-------+-------+\n",
      "|      1|    112|\n",
      "|      1|    235|\n",
      "|      1|    533|\n",
      "|      1|   1198|\n",
      "|      1|   1874|\n",
      "+-------+-------+\n",
      "only showing top 5 rows\n",
      "\n"
     ]
    }
   ],
   "source": [
    "to_read.show(5)"
   ]
  },
  {
   "cell_type": "code",
   "execution_count": 35,
   "metadata": {},
   "outputs": [],
   "source": [
    "# Create Temporary Tables\n",
    "new_books.createOrReplaceTempView(\"new_books\")\n",
    "to_read.createOrReplaceTempView(\"to_read\")"
   ]
  },
  {
   "cell_type": "code",
   "execution_count": 36,
   "metadata": {},
   "outputs": [
    {
     "name": "stdout",
     "output_type": "stream",
     "text": [
      "+-------+-------+----------+------+\n",
      "|user_id|book_id|prediction|rating|\n",
      "+-------+-------+----------+------+\n",
      "|   9996|   7881|  4.440891|  null|\n",
      "|  38566|   8522|  4.588436|  null|\n",
      "|   7614|   8362| 3.8273478|  null|\n",
      "|  45266|   5413| 4.6749935|  null|\n",
      "|   2662|    100|  4.291405|  null|\n",
      "|  11496|   8680| 2.8196623|  null|\n",
      "|  38387|    589|  3.888134|  null|\n",
      "|  45289|   7337| 4.0168257|  null|\n",
      "|  53303|   3885| 3.8883677|  null|\n",
      "|    888|   4643| 3.4073799|  null|\n",
      "|  13300|   5212| 5.0100913|  null|\n",
      "|  22985|   4346| 4.1970944|  null|\n",
      "|  44039|   2263|   3.92553|  null|\n",
      "|  47342|   3124|  4.686724|  null|\n",
      "|  20176|   5275|  4.602424|  null|\n",
      "|  26924|    673|  5.018472|  null|\n",
      "|  38552|   4287| 4.3390274|  null|\n",
      "|  10037|   8013|  4.993116|  null|\n",
      "|  44628|   1471| 3.6191816|  null|\n",
      "|  50752|   7740| 4.7946463|  null|\n",
      "+-------+-------+----------+------+\n",
      "only showing top 20 rows\n",
      "\n",
      "None\n"
     ]
    }
   ],
   "source": [
    "recommendations = new_books.join(to_read,\n",
    "                              on = [\"user_id\", \"book_id\"], \n",
    "                              how = \"inner\")\n",
    "print(recommendations.show())"
   ]
  },
  {
   "cell_type": "code",
   "execution_count": 37,
   "metadata": {},
   "outputs": [],
   "source": [
    "# Create Temporary Tables\n",
    "recommendations.createOrReplaceTempView(\"recommendations\")"
   ]
  },
  {
   "cell_type": "code",
   "execution_count": 38,
   "metadata": {},
   "outputs": [
    {
     "data": {
      "image/png": "[encoded data removed]",
      "text/plain": [
       "<Figure size 864x432 with 1 Axes>"
      ]
     },
     "metadata": {
      "needs_background": "light"
     },
     "output_type": "display_data"
    }
   ],
   "source": [
    "plt.figure(figsize=(12,6))\n",
    "plt.title('Most of the predicted ratings are above 3.8', fontsize = 12)\n",
    "plt.suptitle('Distribution of predictedd ratings for the to_do lists', fontsize = 18)\n",
    "rec = recommendations.toPandas()\n",
    "rec['prediction'].hist()\n",
    "display()"
   ]
  },
  {
   "cell_type": "code",
   "execution_count": null,
   "metadata": {},
   "outputs": [],
   "source": []
  }
 ],
 "metadata": {
  "kernelspec": {
   "display_name": "Python 3 - MININTEL",
   "language": "python",
   "name": "python3 - minintel"
  },
  "language_info": {
   "codemirror_mode": {
    "name": "ipython",
    "version": 3
   },
   "file_extension": ".py",
   "mimetype": "text/x-python",
   "name": "python",
   "nbconvert_exporter": "python",
   "pygments_lexer": "ipython3",
   "version": "3.7.6"
  }
 },
 "nbformat": 4,
 "nbformat_minor": 2
}
