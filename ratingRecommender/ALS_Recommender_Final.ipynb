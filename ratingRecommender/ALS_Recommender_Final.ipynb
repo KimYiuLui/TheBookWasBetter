{
 "cells": [
  {
   "cell_type": "code",
   "execution_count": 1,
   "metadata": {},
   "outputs": [],
   "source": [
    "import pandas as pd\n",
    "import matplotlib.pyplot as plt\n",
    "\n",
    "#spark imports\n",
    "from pyspark.ml.evaluation import RegressionEvaluator\n",
    "from pyspark.ml.recommendation import ALS\n",
    "\n",
    "from pyspark.sql import Row, SparkSession\n",
    "from pyspark.ml.tuning import ParamGridBuilder, CrossValidator \n",
    "\n",
    "spark = SparkSession.builder.appName('Recommendation_system').getOrCreate()\n",
    "\n",
    "#For very small jupyter notebook blocks, I did not make a specific function\n",
    "#Because it would be overrated"
   ]
  },
  {
   "cell_type": "code",
   "execution_count": 2,
   "metadata": {},
   "outputs": [],
   "source": [
    "def import_all_data(file_loc):\n",
    "    file_location = file_loc\n",
    "    file_type = \"csv\"\n",
    "    \n",
    "    # CSV options\n",
    "    infer_schema = \"True\"\n",
    "    first_row_is_header = \"True\"\n",
    "    delimiter = \",\"\n",
    "    \n",
    "    # The applied options are for CSV files. For other file types, these will be ignored.\n",
    "    dataframe = spark.read.format(file_type) \\\n",
    "      .option(\"inferSchema\", infer_schema) \\\n",
    "      .option(\"header\", first_row_is_header) \\\n",
    "      .option(\"sto_readep\", delimiter) \\\n",
    "      .load(file_location)\n",
    "    return dataframe"
   ]
  },
  {
   "cell_type": "code",
   "execution_count": 3,
   "metadata": {},
   "outputs": [],
   "source": [
    "books_file_loc = \"dataset\\\\cleaned_data_books_version_3.csv\"\n",
    "books = import_all_data(books_file_loc)"
   ]
  },
  {
   "cell_type": "code",
   "execution_count": 4,
   "metadata": {},
   "outputs": [],
   "source": [
    "ratings_file_loc = \"dataset\\\\ratings.csv\"\n",
    "ratings = import_all_data(ratings_file_loc)"
   ]
  },
  {
   "cell_type": "code",
   "execution_count": 5,
   "metadata": {},
   "outputs": [],
   "source": [
    "to_read_file_loc = \"dataset\\\\to_read.csv\"\n",
    "to_read = import_all_data(to_read_file_loc)"
   ]
  },
  {
   "cell_type": "code",
   "execution_count": 6,
   "metadata": {},
   "outputs": [],
   "source": [
    "def sparsity_calc():\n",
    "    # Count the total number of ratings in the dataset\n",
    "    numerator = ratings.select(\"rating\").count()\n",
    "\n",
    "    # Count the number of distinct Id's\n",
    "    num_users = ratings.select(\"user_id\").distinct().count()\n",
    "    num_items = ratings.select(\"book_id\").distinct().count()\n",
    "\n",
    "    # Set the denominator equal to the number of users multiplied by the number of items\n",
    "    denominator = num_users * num_items\n",
    "\n",
    "    # Divide the numerator by the denominator\n",
    "    sparsity = (1.0 - (numerator * 1.0)/ denominator) * 100\n",
    "    print(\"The ratings dataframe is \", \"%.2f\" % sparsity + \"% empty.\")"
   ]
  },
  {
   "cell_type": "code",
   "execution_count": 7,
   "metadata": {},
   "outputs": [
    {
     "name": "stdout",
     "output_type": "stream",
     "text": [
      "The ratings dataframe is  99.82% empty.\n"
     ]
    }
   ],
   "source": [
    "sparsity_calc()"
   ]
  },
  {
   "cell_type": "code",
   "execution_count": 8,
   "metadata": {},
   "outputs": [],
   "source": [
    "#now, we split the data into training and test sets to use for the ALS algorithm\n",
    "(training,test)=ratings.randomSplit([0.8, 0.2])\n",
    "\n",
    "#here, a default ALS model is called upon for hyperparameter tuning\n",
    "#and for RMSE calculation within the hyperparameter tuning function\n",
    "als=ALS(userCol=\"user_id\",itemCol=\"book_id\", ratingCol=\"rating\",coldStartStrategy=\"drop\",nonnegative=True, implicitPrefs = False)\n",
    "default_model=als.fit(training)"
   ]
  },
  {
   "cell_type": "code",
   "execution_count": 9,
   "metadata": {},
   "outputs": [],
   "source": [
    "def tune_ALS(training, validation_data, maxIter, regParams, ranks, als_dt):\n",
    "    min_error = float('inf')\n",
    "    best_rank = -1\n",
    "    best_regularization = 0\n",
    "    best_model = None\n",
    "    for rank in ranks:\n",
    "        for reg in regParams:\n",
    "            # get ALS model\n",
    "            als = als_dt.setMaxIter(maxIter).setRank(rank).setRegParam(reg)\n",
    "            # train ALS model\n",
    "            model = als.fit(training)\n",
    "            # evaluate the model by computing the RMSE on the validation data\n",
    "            predictions = model.transform(test)\n",
    "            evaluator = RegressionEvaluator(metricName=\"rmse\",\n",
    "                                            labelCol=\"rating\",\n",
    "                                            predictionCol=\"prediction\")\n",
    "            rmse = evaluator.evaluate(predictions)\n",
    "            print('{} latent factors and regularization = {}: '\n",
    "                  'validation RMSE is {}'.format(rank, reg, rmse))\n",
    "            if rmse < min_error:\n",
    "                min_error = rmse\n",
    "                best_rank = rank\n",
    "                best_regularization = reg\n",
    "                best_model = model\n",
    "    print('\\nThe best model has {} latent factors and '\n",
    "          'regularization = {}'.format(best_rank, best_regularization))\n",
    "    return best_model"
   ]
  },
  {
   "cell_type": "code",
   "execution_count": null,
   "metadata": {},
   "outputs": [],
   "source": [
    "tune_ALS(training, test, 10, [.01, .05, .1, .15, .2, .25, .5, 1], [5, 10, 20, 50, 70, 75, 100], als)"
   ]
  },
  {
   "cell_type": "code",
   "execution_count": null,
   "metadata": {},
   "outputs": [],
   "source": [
    "tune_ALS(training, test, 20, [.05, .1, .15, .2, .25], [10, 50, 70, 100], als)"
   ]
  },
  {
   "cell_type": "code",
   "execution_count": 10,
   "metadata": {},
   "outputs": [],
   "source": [
    "def extracting_info_from_model(insert_model):\n",
    "    predictions = insert_model.transform(test)\n",
    "    predictions.createOrReplaceTempView(\"predictions\")\n",
    "    print(\"Predictions\")\n",
    "    print(predictions.show())\n",
    "    print(\"----------------------------------\")\n",
    "    #generate n recommendations for all users\n",
    "    ALS_recommendations = insert_model.recommendForAllUsers(numItems = 10) # n - 10\n",
    "    print(\"ALS recommendations\")\n",
    "    print(ALS_recommendations.show())\n",
    "    print(\"----------------------------------\")\n",
    "    ALS_recommendations.toPandas()\n",
    "\n",
    "    #temporary table\n",
    "    ALS_recommendations.registerTempTable(\"ALS_recs_temp\")\n",
    "\n",
    "    clean_recs = spark.sql(\"\"\"SELECT user_id,\n",
    "                                movieIds_and_ratings.book_id AS book_id,\n",
    "                                movieIds_and_ratings.rating AS prediction\n",
    "                            FROM ALS_recs_temp\n",
    "                            LATERAL VIEW explode(recommendations) exploded_table\n",
    "                                AS movieIds_and_ratings\"\"\")\n",
    "    print(\"Clean recommendations\")\n",
    "    print(clean_recs.show())\n",
    "    print(\"----------------------------------\")\n",
    "    #recommendations for unread books\n",
    "    new_books = (clean_recs.join(ratings, [\"user_id\", \"book_id\"], \"left\")\n",
    "        .filter(ratings.rating.isNull()))\n",
    "    print(\"Recommendations for unread books\")\n",
    "    print(new_books.show())\n",
    "    print(\"----------------------------------\")\n",
    "    #create more temporary Tables\n",
    "    new_books.createOrReplaceTempView(\"new_books\")\n",
    "    to_read.createOrReplaceTempView(\"to_read\")\n",
    "\n",
    "    recommendations = new_books.join(to_read,\n",
    "                                  on = [\"user_id\", \"book_id\"], \n",
    "                                  how = \"inner\")\n",
    "    print(\"Recommendations for unread books on the user's to_read page\")\n",
    "    print(recommendations.show())\n",
    "    print(\"----------------------------------\")\n",
    "\n",
    "    # Create Temporary Tables\n",
    "    recommendations.createOrReplaceTempView(\"recommendations\")\n",
    "    plt.figure(figsize=(12,6))\n",
    "    plt.suptitle('Distribution of predicted ratings for the to_do lists', fontsize = 18)\n",
    "    rec = recommendations.toPandas()\n",
    "    rec['prediction'].hist()\n",
    "    display()"
   ]
  },
  {
   "cell_type": "code",
   "execution_count": 11,
   "metadata": {},
   "outputs": [
    {
     "name": "stdout",
     "output_type": "stream",
     "text": [
      "Predictions\n",
      "+-------+-------+------+----------+\n",
      "|book_id|user_id|rating|prediction|\n",
      "+-------+-------+------+----------+\n",
      "|    148|   3087|     3| 3.3774285|\n",
      "|    148|  38475|     4| 3.5598464|\n",
      "|    148|  10140|     3| 2.8274121|\n",
      "|    148|  27834|     3| 3.8022585|\n",
      "|    148|   5461|     4|  3.702976|\n",
      "|    148|  40167|     5| 3.3706064|\n",
      "|    148|  23576|     3|  2.988906|\n",
      "|    148|   9125|     1| 2.2420585|\n",
      "|    148|  11272|     3| 2.8950627|\n",
      "|    148|  27027|     5| 3.3033655|\n",
      "|    148|   9246|     3| 2.8476017|\n",
      "|    148|  44397|     5| 4.1512666|\n",
      "|    148|  47730|     2| 3.5924847|\n",
      "|    148|  18031|     5| 3.8409781|\n",
      "|    148|  30681|     2|  3.146894|\n",
      "|    463|  46147|     5|   4.09108|\n",
      "|    463|   6689|     4| 3.6178725|\n",
      "|    463|   1294|     4| 4.0073533|\n",
      "|    463|  29732|     5| 4.7858343|\n",
      "|    463|   2619|     4| 3.5569177|\n",
      "+-------+-------+------+----------+\n",
      "only showing top 20 rows\n",
      "\n",
      "None\n",
      "----------------------------------\n",
      "ALS recommendations\n",
      "+-------+--------------------+\n",
      "|user_id|     recommendations|\n",
      "+-------+--------------------+\n",
      "|    148|[[9842, 4.693315]...|\n",
      "|    463|[[2840, 4.9131494...|\n",
      "|    471|[[9967, 3.3585465...|\n",
      "|    496|[[6009, 5.6386733...|\n",
      "|    833|[[464, 5.377207],...|\n",
      "|   1088|[[4868, 4.830638]...|\n",
      "|   1238|[[7615, 3.980708]...|\n",
      "|   1342|[[4264, 4.8052177...|\n",
      "|   1580|[[4868, 5.2097483...|\n",
      "|   1591|[[7844, 5.1020794...|\n",
      "|   1645|[[9531, 4.789628]...|\n",
      "|   1829|[[8109, 4.6120443...|\n",
      "|   1959|[[6089, 3.3853092...|\n",
      "|   2122|[[2572, 3.8599052...|\n",
      "|   2142|[[7063, 4.93157],...|\n",
      "|   2366|[[9842, 6.2134776...|\n",
      "|   2659|[[9842, 4.621893]...|\n",
      "|   2866|[[6089, 4.920383]...|\n",
      "|   3175|[[8286, 4.9875746...|\n",
      "|   3749|[[2256, 4.4767957...|\n",
      "+-------+--------------------+\n",
      "only showing top 20 rows\n",
      "\n",
      "None\n",
      "----------------------------------\n",
      "Clean recommendations\n",
      "+-------+-------+----------+\n",
      "|user_id|book_id|prediction|\n",
      "+-------+-------+----------+\n",
      "|    148|   9842|  4.693315|\n",
      "|    148|   5207| 4.6384697|\n",
      "|    148|   3628|  4.579375|\n",
      "|    148|   8978|  4.577609|\n",
      "|    148|    862|  4.557455|\n",
      "|    148|   7593| 4.5434566|\n",
      "|    148|   7254|  4.541219|\n",
      "|    148|   6590| 4.5400677|\n",
      "|    148|   1788|  4.525225|\n",
      "|    148|   9566|  4.524524|\n",
      "|    463|   2840| 4.9131494|\n",
      "|    463|   7275|  4.911419|\n",
      "|    463|   4868| 4.8771763|\n",
      "|    463|   8854|  4.836068|\n",
      "|    463|   1609|  4.802102|\n",
      "|    463|   2590|  4.736045|\n",
      "|    463|   7844|  4.732812|\n",
      "|    463|   8415| 4.7110124|\n",
      "|    463|   2151|  4.707748|\n",
      "|    463|   6932|  4.700792|\n",
      "+-------+-------+----------+\n",
      "only showing top 20 rows\n",
      "\n",
      "None\n",
      "----------------------------------\n",
      "Recommendations for unread books\n",
      "+-------+-------+----------+------+\n",
      "|user_id|book_id|prediction|rating|\n",
      "+-------+-------+----------+------+\n",
      "|     12|   2898| 4.2016206|  null|\n",
      "|     20|   4885| 4.9389014|  null|\n",
      "|     20|   7844|  4.963317|  null|\n",
      "|     29|   3706|  4.624865|  null|\n",
      "|     41|   9967| 5.4475875|  null|\n",
      "|     54|   3628|  4.523676|  null|\n",
      "|     68|   4778| 2.8341649|  null|\n",
      "|     75|   2700| 4.8003635|  null|\n",
      "|     78|   6714|  2.675674|  null|\n",
      "|    102|   9842|  2.116131|  null|\n",
      "|    104|   8187|  4.557312|  null|\n",
      "|    107|   7844|  3.877224|  null|\n",
      "|    157|   7831|  4.916742|  null|\n",
      "|    160|   5325|  4.849027|  null|\n",
      "|    180|   9537|  4.581013|  null|\n",
      "|    183|   7844|  4.274586|  null|\n",
      "|    192|   1788|  5.328746|  null|\n",
      "|    194|   3694| 4.7464886|  null|\n",
      "|    200|   7537| 4.7944717|  null|\n",
      "|    219|   3491| 4.6941895|  null|\n",
      "+-------+-------+----------+------+\n",
      "only showing top 20 rows\n",
      "\n",
      "None\n",
      "----------------------------------\n",
      "Recommendations for unread books on the user's to_read page\n",
      "+-------+-------+----------+------+\n",
      "|user_id|book_id|prediction|rating|\n",
      "+-------+-------+----------+------+\n",
      "|  20322|   3952| 5.2150297|  null|\n",
      "|  24070|     66| 4.7664113|  null|\n",
      "|  25954|    267| 4.2998652|  null|\n",
      "|  18815|    828| 5.2171783|  null|\n",
      "|  19114|   3086| 4.6011157|  null|\n",
      "|  36573|   2454|  4.894039|  null|\n",
      "|  38042|   7507| 5.5802665|  null|\n",
      "|  42704|    267|  5.936246|  null|\n",
      "|  30166|    572|  4.715906|  null|\n",
      "|  49550|   3498| 4.2203603|  null|\n",
      "|  51958|   2626| 3.9425993|  null|\n",
      "|  12592|   4509| 5.7011633|  null|\n",
      "|  17837|   1198| 5.6377535|  null|\n",
      "|  20669|   9992|  3.436109|  null|\n",
      "|  26103|   7404|   5.07076|  null|\n",
      "|  42951|   6659|  4.828418|  null|\n",
      "|  14722|   4032| 4.3694143|  null|\n",
      "|  24030|   1657|  4.275842|  null|\n",
      "|  24753|   9003|  5.476604|  null|\n",
      "|  47437|   6435|  4.717023|  null|\n",
      "+-------+-------+----------+------+\n",
      "only showing top 20 rows\n",
      "\n",
      "None\n",
      "----------------------------------\n"
     ]
    },
    {
     "data": {
      "image/png": "[encoded data removed]",
      "text/plain": [
       "<Figure size 864x432 with 1 Axes>"
      ]
     },
     "metadata": {
      "needs_background": "light"
     },
     "output_type": "display_data"
    }
   ],
   "source": [
    "default_info = extracting_info_from_model(default_model)"
   ]
  },
  {
   "cell_type": "code",
   "execution_count": null,
   "metadata": {},
   "outputs": [],
   "source": [
    "als_v2 = ALS(maxIter=10,regParam=0.05,rank=100, userCol=\"user_id\",itemCol=\"book_id\", ratingCol=\"rating\",coldStartStrategy=\"drop\",nonnegative=True, implicitPrefs = False)\n",
    "\n",
    "tuned_model_v1 = als_v2.fit(training)\n",
    "\n",
    "default_info = extracting_info_from_model(tuned_model_v1)"
   ]
  },
  {
   "cell_type": "code",
   "execution_count": null,
   "metadata": {},
   "outputs": [],
   "source": [
    "als_v3 = ALS(maxIter=20,regParam=0.15,rank=100, userCol=\"user_id\",itemCol=\"book_id\", ratingCol=\"rating\",coldStartStrategy=\"drop\",nonnegative=True, implicitPrefs = False)\n",
    "\n",
    "tuned_model_v2 = als_v3.fit(training)\n",
    "\n",
    "default_info = extracting_info_from_model(tuned_model_v2)"
   ]
  }
 ],
 "metadata": {
  "kernelspec": {
   "display_name": "Python 3 - MININTEL",
   "language": "python",
   "name": "python3 - minintel"
  },
  "language_info": {
   "codemirror_mode": {
    "name": "ipython",
    "version": 3
   },
   "file_extension": ".py",
   "mimetype": "text/x-python",
   "name": "python",
   "nbconvert_exporter": "python",
   "pygments_lexer": "ipython3",
   "version": "3.7.6"
  }
 },
 "nbformat": 4,
 "nbformat_minor": 2
}
