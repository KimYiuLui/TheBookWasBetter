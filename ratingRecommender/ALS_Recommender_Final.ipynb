{
 "cells": [
  {
   "cell_type": "code",
   "execution_count": 1,
   "metadata": {
    "colab": {
     "base_uri": "https://localhost:8080/"
    },
    "id": "XhAo7B_LfUke",
    "outputId": "3f397dca-f9d9-4d5e-adad-3ce8d410dac3"
   },
   "outputs": [
    {
     "name": "stdout",
     "output_type": "stream",
     "text": [
      "Collecting pyspark\n",
      "\u001b[?25l  Downloading https://files.pythonhosted.org/packages/f0/26/198fc8c0b98580f617cb03cb298c6056587b8f0447e20fa40c5b634ced77/pyspark-3.0.1.tar.gz (204.2MB)\n",
      "\u001b[K     |████████████████████████████████| 204.2MB 57kB/s \n",
      "\u001b[?25hCollecting py4j==0.10.9\n",
      "\u001b[?25l  Downloading https://files.pythonhosted.org/packages/9e/b6/6a4fb90cd235dc8e265a6a2067f2a2c99f0d91787f06aca4bcf7c23f3f80/py4j-0.10.9-py2.py3-none-any.whl (198kB)\n",
      "\u001b[K     |████████████████████████████████| 204kB 50.1MB/s \n",
      "\u001b[?25hBuilding wheels for collected packages: pyspark\n",
      "  Building wheel for pyspark (setup.py) ... \u001b[?25l\u001b[?25hdone\n",
      "  Created wheel for pyspark: filename=pyspark-3.0.1-py2.py3-none-any.whl size=204612242 sha256=552da7bda7175e8ddca9ad8ae33ae2aae7ca3ac5139bcbb8933ab3ad07f3f5ab\n",
      "  Stored in directory: /root/.cache/pip/wheels/5e/bd/07/031766ca628adec8435bb40f0bd83bb676ce65ff4007f8e73f\n",
      "Successfully built pyspark\n",
      "Installing collected packages: py4j, pyspark\n",
      "Successfully installed py4j-0.10.9 pyspark-3.0.1\n"
     ]
    }
   ],
   "source": [
    "!pip install pyspark\n",
    "\n",
    "import pandas as pd\n",
    "import matplotlib.pyplot as plt\n",
    "\n",
    "#spark imports\n",
    "from pyspark.ml.evaluation import RegressionEvaluator\n",
    "from pyspark.ml.recommendation import ALS\n",
    "\n",
    "from pyspark.sql import Row, SparkSession\n",
    "from pyspark.ml.tuning import ParamGridBuilder, CrossValidator \n",
    "\n",
    "spark = SparkSession.builder.appName('Recommendation_system').getOrCreate()\n",
    "\n",
    "#For very small jupyter notebook blocks, I did not make a specific function\n",
    "#Because it would be overrated"
   ]
  },
  {
   "cell_type": "code",
   "execution_count": 2,
   "metadata": {
    "id": "lARsp0tufUkq"
   },
   "outputs": [],
   "source": [
    "def import_all_data(file_loc):\n",
    "    file_location = file_loc\n",
    "    file_type = \"csv\"\n",
    "    \n",
    "    # CSV options\n",
    "    infer_schema = \"True\"\n",
    "    first_row_is_header = \"True\"\n",
    "    delimiter = \",\"\n",
    "    \n",
    "    # The applied options are for CSV files. For other file types, these will be ignored.\n",
    "    dataframe = spark.read.format(file_type) \\\n",
    "      .option(\"inferSchema\", infer_schema) \\\n",
    "      .option(\"header\", first_row_is_header) \\\n",
    "      .option(\"sto_readep\", delimiter) \\\n",
    "      .load(file_location)\n",
    "    return dataframe"
   ]
  },
  {
   "cell_type": "code",
   "execution_count": 4,
   "metadata": {
    "id": "K24YpFLYfUks"
   },
   "outputs": [],
   "source": [
    "books_file_loc = \"dataset\\\\cleaned_data_books_version_3.csv\"\n",
    "books = import_all_data(books_file_loc)"
   ]
  },
  {
   "cell_type": "code",
   "execution_count": 5,
   "metadata": {
    "id": "9YsFgKedfUks"
   },
   "outputs": [],
   "source": [
    "ratings_file_loc = \"dataset\\\\ratings.csv\"\n",
    "ratings = import_all_data(ratings_file_loc)"
   ]
  },
  {
   "cell_type": "code",
   "execution_count": 6,
   "metadata": {
    "id": "7Ka-_WcSfUkt"
   },
   "outputs": [],
   "source": [
    "to_read_file_loc = \"dataset\\\\to_read.csv\"\n",
    "to_read = import_all_data(to_read_file_loc)"
   ]
  },
  {
   "cell_type": "code",
   "execution_count": 7,
   "metadata": {
    "id": "DX8cdAV2fUku"
   },
   "outputs": [],
   "source": [
    "def sparsity_calc():\n",
    "    # Count the total number of ratings in the dataset\n",
    "    numerator = ratings.select(\"rating\").count()\n",
    "\n",
    "    # Count the number of distinct Id's\n",
    "    num_users = ratings.select(\"user_id\").distinct().count()\n",
    "    num_items = ratings.select(\"book_id\").distinct().count()\n",
    "\n",
    "    # Set the denominator equal to the number of users multiplied by the number of items\n",
    "    denominator = num_users * num_items\n",
    "\n",
    "    # Divide the numerator by the denominator\n",
    "    sparsity = (1.0 - (numerator * 1.0)/ denominator) * 100\n",
    "    print(\"The ratings dataframe is \", \"%.2f\" % sparsity + \"% empty.\")"
   ]
  },
  {
   "cell_type": "code",
   "execution_count": 8,
   "metadata": {
    "colab": {
     "base_uri": "https://localhost:8080/"
    },
    "id": "NbWPLTyWfUku",
    "outputId": "cffc4c0a-cf7e-41c8-d9c9-7e88eaf0951d"
   },
   "outputs": [
    {
     "name": "stdout",
     "output_type": "stream",
     "text": [
      "The ratings dataframe is  99.82% empty.\n"
     ]
    }
   ],
   "source": [
    "sparsity_calc()"
   ]
  },
  {
   "cell_type": "code",
   "execution_count": 9,
   "metadata": {
    "id": "oGP2jPWQfUkw"
   },
   "outputs": [],
   "source": [
    "#now, we split the data into training and test sets to use for the ALS algorithm\n",
    "(training,test)=ratings.randomSplit([0.8, 0.2])\n",
    "\n",
    "#here, a default ALS model is called upon for hyperparameter tuning\n",
    "#and for RMSE calculation within the hyperparameter tuning function\n",
    "als=ALS(userCol=\"user_id\",itemCol=\"book_id\", ratingCol=\"rating\",coldStartStrategy=\"drop\",nonnegative=True, implicitPrefs = False)\n",
    "default_model=als.fit(training)"
   ]
  },
  {
   "cell_type": "code",
   "execution_count": 10,
   "metadata": {
    "id": "iQQjgCxnfUkx"
   },
   "outputs": [],
   "source": [
    "def tune_ALS(training, validation_data, maxIter, regParams, ranks, als_dt):\n",
    "    min_error = float('inf')\n",
    "    best_rank = -1\n",
    "    best_regularization = 0\n",
    "    best_model = None\n",
    "    for rank in ranks:\n",
    "        for reg in regParams:\n",
    "            # get ALS model\n",
    "            als = als_dt.setMaxIter(maxIter).setRank(rank).setRegParam(reg)\n",
    "            # train ALS model\n",
    "            model = als.fit(training)\n",
    "            # evaluate the model by computing the RMSE on the validation data\n",
    "            predictions = model.transform(test)\n",
    "            evaluator = RegressionEvaluator(metricName=\"rmse\",\n",
    "                                            labelCol=\"rating\",\n",
    "                                            predictionCol=\"prediction\")\n",
    "            rmse = evaluator.evaluate(predictions)\n",
    "            print('{} latent factors and regularization = {}: '\n",
    "                  'validation RMSE is {}'.format(rank, reg, rmse))\n",
    "            if rmse < min_error:\n",
    "                min_error = rmse\n",
    "                best_rank = rank\n",
    "                best_regularization = reg\n",
    "                best_model = model\n",
    "    print('\\nThe best model has {} latent factors and '\n",
    "          'regularization = {}'.format(best_rank, best_regularization))\n",
    "    return best_model"
   ]
  },
  {
   "cell_type": "code",
   "execution_count": null,
   "metadata": {
    "colab": {
     "base_uri": "https://localhost:8080/"
    },
    "id": "690gHYZTfUky",
    "outputId": "4c16593e-5b9d-46f5-c0b1-2540faed1cf4"
   },
   "outputs": [
    {
     "name": "stdout",
     "output_type": "stream",
     "text": [
      "5 latent factors and regularization = 0.01: validation RMSE is 1.0223516683526954\n",
      "5 latent factors and regularization = 0.05: validation RMSE is 0.9591783983867225\n",
      "5 latent factors and regularization = 0.1: validation RMSE is 0.9149973751624381\n",
      "5 latent factors and regularization = 0.15: validation RMSE is 0.8922445005785499\n",
      "5 latent factors and regularization = 0.2: validation RMSE is 0.8856804114835058\n",
      "5 latent factors and regularization = 0.25: validation RMSE is 0.890263649712454\n",
      "5 latent factors and regularization = 0.5: validation RMSE is 0.9777456040960468\n",
      "5 latent factors and regularization = 1: validation RMSE is 1.3024837762326853\n",
      "10 latent factors and regularization = 0.01: validation RMSE is 1.0945791054351641\n",
      "10 latent factors and regularization = 0.05: validation RMSE is 0.9710033995068101\n",
      "10 latent factors and regularization = 0.1: validation RMSE is 0.9165477310127811\n",
      "10 latent factors and regularization = 0.15: validation RMSE is 0.8913382979343772\n",
      "10 latent factors and regularization = 0.2: validation RMSE is 0.8849761057713665\n",
      "10 latent factors and regularization = 0.25: validation RMSE is 0.890483289601034\n",
      "10 latent factors and regularization = 0.5: validation RMSE is 0.9781931474982342\n",
      "10 latent factors and regularization = 1: validation RMSE is 1.302482775388435\n",
      "20 latent factors and regularization = 0.01: validation RMSE is 1.0778475362308375\n",
      "20 latent factors and regularization = 0.05: validation RMSE is 0.941579586075784\n",
      "20 latent factors and regularization = 0.1: validation RMSE is 0.9040067347986315\n",
      "20 latent factors and regularization = 0.15: validation RMSE is 0.8871203067303371\n",
      "20 latent factors and regularization = 0.2: validation RMSE is 0.8836319702040994\n",
      "20 latent factors and regularization = 0.25: validation RMSE is 0.8900794588082979\n",
      "20 latent factors and regularization = 0.5: validation RMSE is 0.9783172347754057\n",
      "20 latent factors and regularization = 1: validation RMSE is 1.30248234876168\n",
      "50 latent factors and regularization = 0.01: validation RMSE is 0.9764488476387001\n",
      "50 latent factors and regularization = 0.05: validation RMSE is 0.889015894000195\n",
      "50 latent factors and regularization = 0.1: validation RMSE is 0.8835824505837186\n",
      "50 latent factors and regularization = 0.15: validation RMSE is 0.8810856091834424\n",
      "50 latent factors and regularization = 0.2: validation RMSE is 0.8820931217320902\n",
      "50 latent factors and regularization = 0.25: validation RMSE is 0.8897342350001409\n",
      "50 latent factors and regularization = 0.5: validation RMSE is 0.9784279856331909\n",
      "50 latent factors and regularization = 1: validation RMSE is 1.3024868447005813\n",
      "70 latent factors and regularization = 0.01: validation RMSE is 0.9594149555138631\n",
      "70 latent factors and regularization = 0.05: validation RMSE is 0.8737068456344937\n",
      "70 latent factors and regularization = 0.1: validation RMSE is 0.8760490982392207\n",
      "70 latent factors and regularization = 0.15: validation RMSE is 0.8782068973415877\n",
      "70 latent factors and regularization = 0.2: validation RMSE is 0.8811573369109467\n",
      "70 latent factors and regularization = 0.25: validation RMSE is 0.8894737497999308\n",
      "70 latent factors and regularization = 0.5: validation RMSE is 0.978505687268653\n",
      "70 latent factors and regularization = 1: validation RMSE is 1.3024845720504037\n",
      "75 latent factors and regularization = 0.01: validation RMSE is 0.9558972464315788\n",
      "75 latent factors and regularization = 0.05: validation RMSE is 0.8719627499401773\n",
      "75 latent factors and regularization = 0.1: validation RMSE is 0.8758003855534032\n",
      "75 latent factors and regularization = 0.15: validation RMSE is 0.8783938193260439\n",
      "75 latent factors and regularization = 0.2: validation RMSE is 0.8813941555552349\n",
      "75 latent factors and regularization = 0.25: validation RMSE is 0.8896350118366155\n",
      "75 latent factors and regularization = 0.5: validation RMSE is 0.978484784391011\n",
      "75 latent factors and regularization = 1: validation RMSE is 1.302488008451043\n",
      "100 latent factors and regularization = 0.01: validation RMSE is 0.949261264966266\n",
      "100 latent factors and regularization = 0.05: validation RMSE is 0.8618887041602775\n",
      "100 latent factors and regularization = 0.1: validation RMSE is 0.8714979523949314\n",
      "100 latent factors and regularization = 0.15: validation RMSE is 0.8772291278932155\n",
      "100 latent factors and regularization = 0.2: validation RMSE is 0.8811487090635547\n",
      "100 latent factors and regularization = 0.25: validation RMSE is 0.889626972291102\n",
      "100 latent factors and regularization = 0.5: validation RMSE is 0.9785102691365197\n",
      "100 latent factors and regularization = 1: validation RMSE is 1.3024869423404102\n",
      "\n",
      "The best model has 100 latent factors and regularization = 0.05\n"
     ]
    },
    {
     "data": {
      "text/plain": [
       "ALSModel: uid=ALS_ce31c8c78539, rank=100"
      ]
     },
     "execution_count": 10,
     "metadata": {
      "tags": []
     },
     "output_type": "execute_result"
    }
   ],
   "source": [
    "tune_ALS(training, test, 10, [.01, .05, .1, .15, .2, .25, .5, 1], [5, 10, 20, 50, 70, 75, 100], als)"
   ]
  },
  {
   "cell_type": "code",
   "execution_count": 11,
   "metadata": {
    "colab": {
     "base_uri": "https://localhost:8080/"
    },
    "id": "fPla3axlfUkz",
    "outputId": "750ddb3e-9ee0-4bcb-afa7-3f2d394475e2"
   },
   "outputs": [
    {
     "name": "stdout",
     "output_type": "stream",
     "text": [
      "10 latent factors and regularization = 0.05: validation RMSE is 0.9652579854140452\n",
      "10 latent factors and regularization = 0.1: validation RMSE is 0.8994665698256608\n",
      "10 latent factors and regularization = 0.15: validation RMSE is 0.8747068291373001\n",
      "10 latent factors and regularization = 0.2: validation RMSE is 0.8726126088925962\n",
      "10 latent factors and regularization = 0.25: validation RMSE is 0.881506914958429\n",
      "50 latent factors and regularization = 0.05: validation RMSE is 0.8920018949610454\n",
      "50 latent factors and regularization = 0.1: validation RMSE is 0.8744707396079168\n",
      "50 latent factors and regularization = 0.15: validation RMSE is 0.8666261115265488\n",
      "50 latent factors and regularization = 0.2: validation RMSE is 0.8699146295289568\n",
      "50 latent factors and regularization = 0.25: validation RMSE is 0.8808521614697766\n",
      "70 latent factors and regularization = 0.05: validation RMSE is 0.8782414185099485\n",
      "70 latent factors and regularization = 0.1: validation RMSE is 0.8707438879610752\n",
      "70 latent factors and regularization = 0.15: validation RMSE is 0.8658196148073815\n",
      "70 latent factors and regularization = 0.2: validation RMSE is 0.8698247801443704\n",
      "70 latent factors and regularization = 0.25: validation RMSE is 0.8809218217824496\n",
      "100 latent factors and regularization = 0.05: validation RMSE is 0.8681299867078002\n",
      "100 latent factors and regularization = 0.1: validation RMSE is 0.8672870799561713\n",
      "100 latent factors and regularization = 0.15: validation RMSE is 0.8647314566511463\n",
      "100 latent factors and regularization = 0.2: validation RMSE is 0.869520088255707\n",
      "100 latent factors and regularization = 0.25: validation RMSE is 0.8807911257395838\n",
      "\n",
      "The best model has 100 latent factors and regularization = 0.15\n"
     ]
    },
    {
     "data": {
      "text/plain": [
       "ALSModel: uid=ALS_0969c9a1a09e, rank=100"
      ]
     },
     "execution_count": 11,
     "metadata": {
      "tags": []
     },
     "output_type": "execute_result"
    }
   ],
   "source": [
    "tune_ALS(training, test, 20, [.05, .1, .15, .2, .25], [10, 50, 70, 100], als)"
   ]
  },
  {
   "cell_type": "code",
   "execution_count": 13,
   "metadata": {
    "id": "H9qIt8qdfUkz"
   },
   "outputs": [],
   "source": [
    "def extracting_info_from_model(insert_model):\n",
    "    predictions = insert_model.transform(test)\n",
    "    predictions.createOrReplaceTempView(\"predictions\")\n",
    "    print(\"Predictions\")\n",
    "    print(predictions.show())\n",
    "    print(\"----------------------------------\")\n",
    "    #generate n recommendations for all users\n",
    "    ALS_recommendations = insert_model.recommendForAllUsers(numItems = 10) # n - 10\n",
    "    print(\"ALS recommendations\")\n",
    "    print(ALS_recommendations.show())\n",
    "    print(\"----------------------------------\")\n",
    "    ALS_recommendations.toPandas()\n",
    "\n",
    "    #temporary table\n",
    "    ALS_recommendations.registerTempTable(\"ALS_recs_temp\")\n",
    "\n",
    "    clean_recs = spark.sql(\"\"\"SELECT user_id,\n",
    "                                movieIds_and_ratings.book_id AS book_id,\n",
    "                                movieIds_and_ratings.rating AS prediction\n",
    "                            FROM ALS_recs_temp\n",
    "                            LATERAL VIEW explode(recommendations) exploded_table\n",
    "                                AS movieIds_and_ratings\"\"\")\n",
    "    print(\"Clean recommendations\")\n",
    "    print(clean_recs.show())\n",
    "    print(\"----------------------------------\")\n",
    "    #recommendations for unread books\n",
    "    new_books = (clean_recs.join(ratings, [\"user_id\", \"book_id\"], \"left\")\n",
    "        .filter(ratings.rating.isNull()))\n",
    "    print(\"Recommendations for unread books\")\n",
    "    print(new_books.show())\n",
    "    print(\"----------------------------------\")\n",
    "    #create more temporary Tables\n",
    "    new_books.createOrReplaceTempView(\"new_books\")\n",
    "    to_read.createOrReplaceTempView(\"to_read\")\n",
    "\n",
    "    recommendations = new_books.join(to_read,\n",
    "                                  on = [\"user_id\", \"book_id\"], \n",
    "                                  how = \"inner\")\n",
    "    print(\"Recommendations for unread books on the user's to_read page\")\n",
    "    print(recommendations.show())\n",
    "    print(\"----------------------------------\")\n",
    "\n",
    "    # Create Temporary Tables\n",
    "    recommendations.createOrReplaceTempView(\"recommendations\")\n",
    "    plt.figure(figsize=(12,6))\n",
    "    plt.suptitle('Distribution of predicted ratings for the to_do lists', fontsize = 18)\n",
    "    rec = recommendations.toPandas()\n",
    "    rec['prediction'].hist()\n",
    "    display()"
   ]
  },
  {
   "cell_type": "code",
   "execution_count": 14,
   "metadata": {
    "colab": {
     "base_uri": "https://localhost:8080/",
     "height": 1000
    },
    "id": "UvqZSpUcfUk1",
    "outputId": "c9f0b006-2459-4b4a-bdc3-b59d42f291d1"
   },
   "outputs": [
    {
     "name": "stdout",
     "output_type": "stream",
     "text": [
      "Predictions\n",
      "+-------+-------+------+----------+\n",
      "|book_id|user_id|rating|prediction|\n",
      "+-------+-------+------+----------+\n",
      "|    148|  28767|     3|  2.970109|\n",
      "|    148|  29703|     4| 3.7822845|\n",
      "|    148|  29031|     3| 3.4026897|\n",
      "|    148|  40167|     5|  3.315821|\n",
      "|    148|  27934|     4| 3.2089949|\n",
      "|    148|  23576|     3| 2.9752922|\n",
      "|    148|  45554|     4|  3.579195|\n",
      "|    148|  33890|     3|  2.793859|\n",
      "|    148|  21658|     4| 3.3482988|\n",
      "|    148|  47730|     2| 3.7827756|\n",
      "|    148|  14372|     3| 3.2031565|\n",
      "|    148|   5115|     4| 3.1996248|\n",
      "|    148|   3005|     5|  4.006132|\n",
      "|    148|  45811|     3| 3.7440574|\n",
      "|    148|  31852|     3| 3.3123198|\n",
      "|    463|  46147|     5| 3.9705055|\n",
      "|    463|  46479|     5| 3.8531554|\n",
      "|    463|   5152|     4| 3.8749464|\n",
      "|    463|  17207|     4| 3.7959447|\n",
      "|    463|   2619|     4| 3.9455383|\n",
      "+-------+-------+------+----------+\n",
      "only showing top 20 rows\n",
      "\n",
      "None\n",
      "----------------------------------\n",
      "ALS recommendations\n",
      "+-------+--------------------+\n",
      "|user_id|     recommendations|\n",
      "+-------+--------------------+\n",
      "|    148|[[9076, 4.4520392...|\n",
      "|    463|[[9100, 4.8726625...|\n",
      "|    471|[[1338, 3.4117172...|\n",
      "|    496|[[7401, 6.2223077...|\n",
      "|    833|[[8548, 5.180783]...|\n",
      "|   1088|[[1788, 4.694554]...|\n",
      "|   1238|[[6089, 5.520092]...|\n",
      "|   1342|[[4154, 5.1507664...|\n",
      "|   1580|[[9076, 5.017443]...|\n",
      "|   1591|[[5649, 5.178555]...|\n",
      "|   1645|[[7401, 4.8286147...|\n",
      "|   1829|[[6089, 4.91273],...|\n",
      "|   1959|[[9531, 3.1570132...|\n",
      "|   2122|[[5990, 4.891379]...|\n",
      "|   2142|[[6089, 4.903427]...|\n",
      "|   2366|[[8926, 6.2052083...|\n",
      "|   2659|[[3952, 4.4197154...|\n",
      "|   2866|[[6089, 5.1799173...|\n",
      "|   3175|[[6575, 4.5672283...|\n",
      "|   3749|[[6590, 4.385433]...|\n",
      "+-------+--------------------+\n",
      "only showing top 20 rows\n",
      "\n",
      "None\n",
      "----------------------------------\n",
      "Clean recommendations\n",
      "+-------+-------+----------+\n",
      "|user_id|book_id|prediction|\n",
      "+-------+-------+----------+\n",
      "|    148|   9076| 4.4520392|\n",
      "|    148|   6089| 4.4253144|\n",
      "|    148|   8362| 4.3785915|\n",
      "|    148|   2743|  4.377354|\n",
      "|    148|   3628|  4.361554|\n",
      "|    148|   5346| 4.3602557|\n",
      "|    148|   7305| 4.3499646|\n",
      "|    148|   5207| 4.3497267|\n",
      "|    148|   2205|  4.345177|\n",
      "|    148|   9531| 4.3446856|\n",
      "|    463|   9100| 4.8726625|\n",
      "|    463|   5177| 4.6577287|\n",
      "|    463|   6615|   4.58355|\n",
      "|    463|   4566| 4.5799265|\n",
      "|    463|    983|  4.576533|\n",
      "|    463|   8521|  4.549224|\n",
      "|    463|    467|  4.533467|\n",
      "|    463|    896| 4.4860516|\n",
      "|    463|   7079|   4.46838|\n",
      "|    463|   1319|  4.462319|\n",
      "+-------+-------+----------+\n",
      "only showing top 20 rows\n",
      "\n",
      "None\n",
      "----------------------------------\n",
      "Recommendations for unread books\n",
      "+-------+-------+----------+------+\n",
      "|user_id|book_id|prediction|rating|\n",
      "+-------+-------+----------+------+\n",
      "|      1|    869| 2.8818543|  null|\n",
      "|     10|   3778|  5.234385|  null|\n",
      "|     31|   9505|  4.047805|  null|\n",
      "|     35|    862| 3.6081028|  null|\n",
      "|     54|   3628| 4.5696836|  null|\n",
      "|     72|    653| 4.7069798|  null|\n",
      "|     81|    619| 2.9509344|  null|\n",
      "|     84|   6920| 4.3529625|  null|\n",
      "|    109|   6884| 4.7728057|  null|\n",
      "|    115|   7470| 1.9320035|  null|\n",
      "|    153|   9566| 3.6435869|  null|\n",
      "|    161|   7117|  4.147394|  null|\n",
      "|    175|   8519| 3.7243395|  null|\n",
      "|    180|   5401| 4.5700226|  null|\n",
      "|    207|   6089|  4.702977|  null|\n",
      "|    220|   9458| 4.3118505|  null|\n",
      "|    279|   8333| 4.8145556|  null|\n",
      "|    280|   5207|  4.624798|  null|\n",
      "|    290|   8187| 5.3514056|  null|\n",
      "|    329|   5207|  4.582508|  null|\n",
      "+-------+-------+----------+------+\n",
      "only showing top 20 rows\n",
      "\n",
      "None\n",
      "----------------------------------\n",
      "Recommendations for unread books on the user's to_read page\n",
      "+-------+-------+----------+------+\n",
      "|user_id|book_id|prediction|rating|\n",
      "+-------+-------+----------+------+\n",
      "|  32885|   6457| 4.8577924|  null|\n",
      "|  36241|   8099| 3.9844978|  null|\n",
      "|  36811|    562| 5.5362077|  null|\n",
      "|  40066|   9973| 4.2436996|  null|\n",
      "|  41274|   8056|  5.342229|  null|\n",
      "|   7310|   5177|  4.075373|  null|\n",
      "|  15959|   2346|  4.850042|  null|\n",
      "|   4783|   8580|   4.55742|  null|\n",
      "|  19260|      2|   5.19315|  null|\n",
      "|  23650|   9569| 5.0085244|  null|\n",
      "|  37028|   6246| 4.7946653|  null|\n",
      "|  38487|   1487|  4.459852|  null|\n",
      "|  32672|   1462|  2.735972|  null|\n",
      "|  23202|   1341|  5.477308|  null|\n",
      "|  38111|   4032|  4.980816|  null|\n",
      "|   4835|    389|  4.656005|  null|\n",
      "|  10406|   3282|  5.098979|  null|\n",
      "|  27134|   7063|  5.185272|  null|\n",
      "|  33030|   2256| 4.6382504|  null|\n",
      "|  38552|   4287|  4.719991|  null|\n",
      "+-------+-------+----------+------+\n",
      "only showing top 20 rows\n",
      "\n",
      "None\n",
      "----------------------------------\n"
     ]
    },
    {
     "data": {
      "image/png": "[encoded data removed]",
      "text/plain": [
       "<Figure size 864x432 with 1 Axes>"
      ]
     },
     "metadata": {
      "needs_background": "light",
      "tags": []
     },
     "output_type": "display_data"
    }
   ],
   "source": [
    "default_info = extracting_info_from_model(default_model)"
   ]
  },
  {
   "cell_type": "code",
   "execution_count": 15,
   "metadata": {
    "colab": {
     "base_uri": "https://localhost:8080/",
     "height": 1000
    },
    "id": "m9VpqtzbfUk2",
    "outputId": "961b2d0f-8776-4850-def7-cc59d568b701"
   },
   "outputs": [
    {
     "name": "stdout",
     "output_type": "stream",
     "text": [
      "Predictions\n",
      "+-------+-------+------+----------+\n",
      "|book_id|user_id|rating|prediction|\n",
      "+-------+-------+------+----------+\n",
      "|    148|  28767|     3| 3.3020515|\n",
      "|    148|  29703|     4| 3.9060872|\n",
      "|    148|  29031|     3|  3.352706|\n",
      "|    148|  40167|     5| 3.9477775|\n",
      "|    148|  27934|     4| 3.1927361|\n",
      "|    148|  23576|     3| 2.9383779|\n",
      "|    148|  45554|     4|  3.238894|\n",
      "|    148|  33890|     3| 2.5839446|\n",
      "|    148|  21658|     4| 3.4905386|\n",
      "|    148|  47730|     2|  3.722455|\n",
      "|    148|  14372|     3|  2.845519|\n",
      "|    148|   5115|     4| 3.1627114|\n",
      "|    148|   3005|     5|     3.934|\n",
      "|    148|  45811|     3|  3.943457|\n",
      "|    148|  31852|     3| 3.4553037|\n",
      "|    463|  46147|     5|  4.013192|\n",
      "|    463|  46479|     5|  3.946279|\n",
      "|    463|   5152|     4| 3.8895242|\n",
      "|    463|  17207|     4| 3.8959231|\n",
      "|    463|   2619|     4|  3.371774|\n",
      "+-------+-------+------+----------+\n",
      "only showing top 20 rows\n",
      "\n",
      "None\n",
      "----------------------------------\n",
      "ALS recommendations\n",
      "+-------+--------------------+\n",
      "|user_id|     recommendations|\n",
      "+-------+--------------------+\n",
      "|    148|[[8946, 4.9320664...|\n",
      "|    463|[[8946, 5.0492196...|\n",
      "|    471|[[8548, 3.1383297...|\n",
      "|    496|[[8946, 5.5433445...|\n",
      "|    833|[[9842, 4.9199557...|\n",
      "|   1088|[[3628, 4.7971716...|\n",
      "|   1238|[[8946, 4.9953594...|\n",
      "|   1342|[[1734, 4.942172]...|\n",
      "|   1580|[[8946, 5.2030983...|\n",
      "|   1591|[[8946, 5.4640174...|\n",
      "|   1645|[[8946, 5.0156617...|\n",
      "|   1829|[[8946, 5.328874]...|\n",
      "|   1959|[[8946, 3.2623575...|\n",
      "|   2122|[[8946, 5.0847826...|\n",
      "|   2142|[[8946, 5.1236115...|\n",
      "|   2366|[[8946, 6.574507]...|\n",
      "|   2659|[[862, 4.2755027]...|\n",
      "|   2866|[[8946, 5.0657134...|\n",
      "|   3175|[[6575, 4.8776283...|\n",
      "|   3749|[[4643, 4.6738305...|\n",
      "+-------+--------------------+\n",
      "only showing top 20 rows\n",
      "\n",
      "None\n",
      "----------------------------------\n",
      "Clean recommendations\n",
      "+-------+-------+----------+\n",
      "|user_id|book_id|prediction|\n",
      "+-------+-------+----------+\n",
      "|    148|   8946| 4.9320664|\n",
      "|    148|   7844|  4.873514|\n",
      "|    148|   7947| 4.6838617|\n",
      "|    148|   4778|  4.651601|\n",
      "|    148|   5919|  4.638189|\n",
      "|    148|   3282|  4.595465|\n",
      "|    148|   5244|  4.576175|\n",
      "|    148|   7305| 4.5681686|\n",
      "|    148|   6224|  4.563064|\n",
      "|    148|   8926| 4.5619607|\n",
      "|    463|   8946| 5.0492196|\n",
      "|    463|   7325|  4.707743|\n",
      "|    463|   5155| 4.6701927|\n",
      "|    463|   2374|  4.642387|\n",
      "|    463|   9037|  4.627337|\n",
      "|    463|   2975| 4.6088014|\n",
      "|    463|   9569| 4.5947657|\n",
      "|    463|    780| 4.5061235|\n",
      "|    463|    779|  4.457061|\n",
      "|    463|   4499|  4.394938|\n",
      "+-------+-------+----------+\n",
      "only showing top 20 rows\n",
      "\n",
      "None\n",
      "----------------------------------\n",
      "Recommendations for unread books\n",
      "+-------+-------+----------+------+\n",
      "|user_id|book_id|prediction|rating|\n",
      "+-------+-------+----------+------+\n",
      "|      4|   9842| 4.6118617|  null|\n",
      "|     31|   1788| 3.7511888|  null|\n",
      "|     31|   6590| 3.7098353|  null|\n",
      "|     54|   3628|  4.282482|  null|\n",
      "|     63|   9553|  4.058863|  null|\n",
      "|     82|   9842| 4.9452496|  null|\n",
      "|     84|   6920|  4.333499|  null|\n",
      "|    102|   9842| 1.9342395|  null|\n",
      "|    103|   6590| 4.0377927|  null|\n",
      "|    138|   4778| 5.3049836|  null|\n",
      "|    178|   6991|  4.785973|  null|\n",
      "|    230|   2613| 4.6893907|  null|\n",
      "|    248|      4| 4.8884654|  null|\n",
      "|    280|   5207|  4.539429|  null|\n",
      "|    281|   4778| 4.1726427|  null|\n",
      "|    297|   7063| 3.5724344|  null|\n",
      "|    301|   7264| 3.5134401|  null|\n",
      "|    336|   8926|  5.702471|  null|\n",
      "|    342|   6902|  4.551633|  null|\n",
      "|    362|   9712|  4.454052|  null|\n",
      "+-------+-------+----------+------+\n",
      "only showing top 20 rows\n",
      "\n",
      "None\n",
      "----------------------------------\n",
      "Recommendations for unread books on the user's to_read page\n",
      "+-------+-------+----------+------+\n",
      "|user_id|book_id|prediction|rating|\n",
      "+-------+-------+----------+------+\n",
      "|   5302|    291|  4.112749|  null|\n",
      "|   6939|   8187| 3.9295435|  null|\n",
      "|  10119|   2205| 3.7577255|  null|\n",
      "|  24482|   8521|  4.487478|  null|\n",
      "|  26055|     29| 1.4903735|  null|\n",
      "|   9602|    142| 3.8639402|  null|\n",
      "|  10728|    817| 4.5024357|  null|\n",
      "|  11321|   8187|  5.106569|  null|\n",
      "|  35074|   1146|  4.505631|  null|\n",
      "|  39135|   2149| 4.0331445|  null|\n",
      "|  44616|    140|  5.151013|  null|\n",
      "|  47026|   2626|  4.869429|  null|\n",
      "|  15832|   3952| 4.3961363|  null|\n",
      "|  29910|   1905| 4.5068507|  null|\n",
      "|  45520|   7831|  4.767371|  null|\n",
      "|  13300|   5212|  4.410909|  null|\n",
      "|  41128|    950| 4.4729733|  null|\n",
      "|  27134|   7063| 4.5330114|  null|\n",
      "|  36857|    192| 3.3299925|  null|\n",
      "|  38552|   4287| 4.6182694|  null|\n",
      "+-------+-------+----------+------+\n",
      "only showing top 20 rows\n",
      "\n",
      "None\n",
      "----------------------------------\n"
     ]
    },
    {
     "data": {
      "image/png": "[encoded data removed]",
      "text/plain": [
       "<Figure size 864x432 with 1 Axes>"
      ]
     },
     "metadata": {
      "needs_background": "light",
      "tags": []
     },
     "output_type": "display_data"
    }
   ],
   "source": [
    "als_v2 = ALS(maxIter=10,regParam=0.05,rank=100, userCol=\"user_id\",itemCol=\"book_id\", ratingCol=\"rating\",coldStartStrategy=\"drop\",nonnegative=True, implicitPrefs = False)\n",
    "\n",
    "tuned_model_v1 = als_v2.fit(training)\n",
    "\n",
    "default_info = extracting_info_from_model(tuned_model_v1)"
   ]
  },
  {
   "cell_type": "code",
   "execution_count": 16,
   "metadata": {
    "colab": {
     "base_uri": "https://localhost:8080/",
     "height": 1000
    },
    "id": "Ix5saA2AfUk2",
    "outputId": "129e84af-716d-4cb4-8262-bb645f1a4016"
   },
   "outputs": [
    {
     "name": "stdout",
     "output_type": "stream",
     "text": [
      "Predictions\n",
      "+-------+-------+------+----------+\n",
      "|book_id|user_id|rating|prediction|\n",
      "+-------+-------+------+----------+\n",
      "|    148|  28767|     3| 3.0764422|\n",
      "|    148|  29703|     4|  3.731343|\n",
      "|    148|  29031|     3| 3.4574728|\n",
      "|    148|  40167|     5|  3.395949|\n",
      "|    148|  27934|     4|  3.209757|\n",
      "|    148|  23576|     3| 2.9445124|\n",
      "|    148|  45554|     4| 3.5178013|\n",
      "|    148|  33890|     3| 2.7549062|\n",
      "|    148|  21658|     4| 3.3450587|\n",
      "|    148|  47730|     2| 3.7743056|\n",
      "|    148|  14372|     3| 3.2103539|\n",
      "|    148|   5115|     4| 3.1830335|\n",
      "|    148|   3005|     5| 3.9544237|\n",
      "|    148|  45811|     3| 3.6733325|\n",
      "|    148|  31852|     3| 3.2998128|\n",
      "|    463|  46147|     5| 4.1218557|\n",
      "|    463|  46479|     5|  4.026671|\n",
      "|    463|   5152|     4| 3.9672134|\n",
      "|    463|  17207|     4| 3.7547028|\n",
      "|    463|   2619|     4| 3.5733774|\n",
      "+-------+-------+------+----------+\n",
      "only showing top 20 rows\n",
      "\n",
      "None\n",
      "----------------------------------\n",
      "ALS recommendations\n",
      "+-------+--------------------+\n",
      "|user_id|     recommendations|\n",
      "+-------+--------------------+\n",
      "|    148|[[5207, 4.338177]...|\n",
      "|    463|[[3628, 4.19931],...|\n",
      "|    471|[[862, 2.871485],...|\n",
      "|    496|[[9842, 4.911203]...|\n",
      "|    833|[[9842, 4.5201654...|\n",
      "|   1088|[[3628, 4.40428],...|\n",
      "|   1238|[[3491, 4.308508]...|\n",
      "|   1342|[[2840, 4.47397],...|\n",
      "|   1580|[[5207, 4.70691],...|\n",
      "|   1591|[[8866, 4.8287797...|\n",
      "|   1645|[[267, 4.138275],...|\n",
      "|   1829|[[5207, 4.8015924...|\n",
      "|   1959|[[5207, 3.0689971...|\n",
      "|   2122|[[6157, 4.363849]...|\n",
      "|   2142|[[5207, 4.648792]...|\n",
      "|   2366|[[862, 5.6350307]...|\n",
      "|   2659|[[3953, 3.9684944...|\n",
      "|   2866|[[3628, 4.681278]...|\n",
      "|   3175|[[6575, 4.418683]...|\n",
      "|   3749|[[4643, 4.0158167...|\n",
      "+-------+--------------------+\n",
      "only showing top 20 rows\n",
      "\n",
      "None\n",
      "----------------------------------\n",
      "Clean recommendations\n",
      "+-------+-------+----------+\n",
      "|user_id|book_id|prediction|\n",
      "+-------+-------+----------+\n",
      "|    148|   5207|  4.338177|\n",
      "|    148|   2590|  4.319381|\n",
      "|    148|   3628| 4.3157473|\n",
      "|    148|    862|  4.292942|\n",
      "|    148|   1788|  4.250756|\n",
      "|    148|   6920|  4.248376|\n",
      "|    148|   8926| 4.2424636|\n",
      "|    148|   7305| 4.2394357|\n",
      "|    148|   3953|  4.222012|\n",
      "|    148|   3753|  4.218238|\n",
      "|    463|   3628|   4.19931|\n",
      "|    463|   4483|  4.130369|\n",
      "|    463|   5155| 4.1195807|\n",
      "|    463|   5207| 4.0935397|\n",
      "|    463|   2975| 4.0819106|\n",
      "|    463|   6590| 4.0701494|\n",
      "|    463|   6920|  4.051674|\n",
      "|    463|   1380| 4.0445156|\n",
      "|    463|    862| 4.0437665|\n",
      "|    463|    780| 4.0409923|\n",
      "+-------+-------+----------+\n",
      "only showing top 20 rows\n",
      "\n",
      "None\n",
      "----------------------------------\n",
      "Recommendations for unread books\n",
      "+-------+-------+----------+------+\n",
      "|user_id|book_id|prediction|rating|\n",
      "+-------+-------+----------+------+\n",
      "|      4|   9842|  4.303398|  null|\n",
      "|     31|   1788| 3.6478455|  null|\n",
      "|     31|   6590| 3.6355875|  null|\n",
      "|     35|    862| 3.6046457|  null|\n",
      "|     54|   3628|  4.271633|  null|\n",
      "|     84|   6920|  4.560028|  null|\n",
      "|    103|   6590| 3.9868221|  null|\n",
      "|    104|   8187|  3.995495|  null|\n",
      "|    280|   5207| 4.4129333|  null|\n",
      "|    325|    862|  4.455182|  null|\n",
      "|    329|   5207| 4.2158856|  null|\n",
      "|    336|   8926|  5.088093|  null|\n",
      "|    342|   6902|  4.196153|  null|\n",
      "|    350|   1577|  3.504612|  null|\n",
      "|    353|   6920|  4.685326|  null|\n",
      "|    356|   2244| 4.9216533|  null|\n",
      "|    402|   7401|  4.724595|  null|\n",
      "|    418|   9123|   4.30272|  null|\n",
      "|    483|   3628|  4.666935|  null|\n",
      "|    490|   9842| 3.8364449|  null|\n",
      "+-------+-------+----------+------+\n",
      "only showing top 20 rows\n",
      "\n",
      "None\n",
      "----------------------------------\n",
      "Recommendations for unread books on the user's to_read page\n",
      "+-------+-------+----------+------+\n",
      "|user_id|book_id|prediction|rating|\n",
      "+-------+-------+----------+------+\n",
      "|  10925|   2346|   4.92601|  null|\n",
      "|  29157|   1568| 3.7480469|  null|\n",
      "|  29212|    562| 5.0203934|  null|\n",
      "|  33454|   1568| 4.7896934|  null|\n",
      "|  41891|   3628|  4.739988|  null|\n",
      "|  42831|   7621|  4.330323|  null|\n",
      "|  45737|   9141|  4.124279|  null|\n",
      "|  45753|   7305| 3.5643783|  null|\n",
      "|  48045|    562|  5.048926|  null|\n",
      "|  18104|   3953|  4.470784|  null|\n",
      "|  26207|   1618| 3.9341378|  null|\n",
      "|  34876|   9842|  4.321869|  null|\n",
      "|  40888|    862|  4.896819|  null|\n",
      "|  42271|    862| 5.0999722|  null|\n",
      "|  47216|    862| 4.2924843|  null|\n",
      "|   9115|   6480| 3.5569465|  null|\n",
      "|   9191|   8748|  3.116237|  null|\n",
      "|  23405|   2292| 3.7369673|  null|\n",
      "|  28222|   4928| 4.4247913|  null|\n",
      "|  31839|    862|  4.992836|  null|\n",
      "+-------+-------+----------+------+\n",
      "only showing top 20 rows\n",
      "\n",
      "None\n",
      "----------------------------------\n"
     ]
    },
    {
     "data": {
      "image/png": "[encoded data removed]",
      "text/plain": [
       "<Figure size 864x432 with 1 Axes>"
      ]
     },
     "metadata": {
      "needs_background": "light",
      "tags": []
     },
     "output_type": "display_data"
    }
   ],
   "source": [
    "als_v3 = ALS(maxIter=20,regParam=0.15,rank=100, userCol=\"user_id\",itemCol=\"book_id\", ratingCol=\"rating\",coldStartStrategy=\"drop\",nonnegative=True, implicitPrefs = False)\n",
    "\n",
    "tuned_model_v2 = als_v3.fit(training)\n",
    "\n",
    "default_info = extracting_info_from_model(tuned_model_v2)"
   ]
  }
 ],
 "metadata": {
  "colab": {
   "name": "ALS_Recommender_Final.ipynb",
   "provenance": []
  },
  "kernelspec": {
   "display_name": "Python 3",
   "language": "python",
   "name": "python3"
  },
  "language_info": {
   "codemirror_mode": {
    "name": "ipython",
    "version": 3
   },
   "file_extension": ".py",
   "mimetype": "text/x-python",
   "name": "python",
   "nbconvert_exporter": "python",
   "pygments_lexer": "ipython3",
   "version": "3.7.7"
  }
 },
 "nbformat": 4,
 "nbformat_minor": 2
}
